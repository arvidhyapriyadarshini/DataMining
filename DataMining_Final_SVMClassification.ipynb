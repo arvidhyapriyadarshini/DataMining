{
  "nbformat": 4,
  "nbformat_minor": 0,
  "metadata": {
    "colab": {
      "provenance": []
    },
    "kernelspec": {
      "name": "python3",
      "display_name": "Python 3"
    },
    "language_info": {
      "name": "python"
    }
  },
  "cells": [
    {
      "cell_type": "code",
      "execution_count": null,
      "metadata": {
        "colab": {
          "base_uri": "https://localhost:8080/"
        },
        "id": "VPVdgjBm0Z7y",
        "outputId": "0bb9e2e7-620c-46fe-b1e7-6c71cb6da30c"
      },
      "outputs": [
        {
          "output_type": "stream",
          "name": "stdout",
          "text": [
            "Mounted at /content/drive\n"
          ]
        }
      ],
      "source": [
        "from google.colab import drive\n",
        "drive.mount('/content/drive')"
      ]
    },
    {
      "cell_type": "code",
      "source": [
        "import pandas as pd\n",
        "path= ('/content/drive/MyDrive/Colab Notebooks/CSE5317-DataMining-HW/classification_dataset_TopGenes.csv')\n",
        "classification_data= pd.read_csv(path)"
      ],
      "metadata": {
        "id": "HtVWup1UVW6p"
      },
      "execution_count": null,
      "outputs": []
    },
    {
      "cell_type": "code",
      "source": [
        "from sklearn.model_selection import train_test_split\n",
        "from sklearn.preprocessing import StandardScaler\n",
        "classification_data = classification_data.drop('Samples', axis=1)\n",
        "missing_values_count = classification_data.isnull().sum().sum()\n",
        "print(\"missing_values_count\",missing_values_count)\n",
        "X = classification_data.drop('Disease State', axis=1)\n",
        "y = classification_data['Disease State']"
      ],
      "metadata": {
        "colab": {
          "base_uri": "https://localhost:8080/"
        },
        "id": "ltQD1fAI0x3Z",
        "outputId": "544a65cb-4b96-4bd4-b674-62666c54786a"
      },
      "execution_count": null,
      "outputs": [
        {
          "output_type": "stream",
          "name": "stdout",
          "text": [
            "missing_values_count 0\n"
          ]
        }
      ]
    },
    {
      "cell_type": "code",
      "source": [
        "\n",
        "scaler = StandardScaler()\n",
        "X_scaled = scaler.fit_transform(X)\n",
        "X_train, X_test, y_train, y_test = train_test_split(X_scaled, y, test_size=0.2, random_state=42)\n",
        "X_train.shape, X_test.shape"
      ],
      "metadata": {
        "colab": {
          "base_uri": "https://localhost:8080/"
        },
        "id": "bHKY8FCH0x6Z",
        "outputId": "2629d49e-d1b8-42fe-91b6-72b7d746e9e8"
      },
      "execution_count": null,
      "outputs": [
        {
          "output_type": "execute_result",
          "data": {
            "text/plain": [
              "((26, 44), (7, 44))"
            ]
          },
          "metadata": {},
          "execution_count": 4
        }
      ]
    },
    {
      "cell_type": "markdown",
      "source": [
        "#SVM"
      ],
      "metadata": {
        "id": "W5_mT_mB-nBx"
      }
    },
    {
      "cell_type": "code",
      "source": [
        "from sklearn.svm import SVC\n",
        "from sklearn.metrics import accuracy_score, precision_score, recall_score, f1_score, confusion_matrix\n",
        "svm_model = SVC()\n",
        "svm_model.fit(X_train, y_train)\n",
        "y_pred_svm = svm_model.predict(X_test)\n",
        "\n",
        "accuracy_svm = accuracy_score(y_test, y_pred_svm)\n",
        "precision_svm = precision_score(y_test, y_pred_svm)\n",
        "recall_svm = recall_score(y_test, y_pred_svm)\n",
        "f1_svm = f1_score(y_test, y_pred_svm)\n",
        "conf_matrix_svm = confusion_matrix(y_test, y_pred_svm)\n",
        "\n",
        "print(\"Accuracy: \", accuracy_svm)\n",
        "print(\"Precision: \",precision_svm)\n",
        "print(\"recall: \", recall_svm)\n",
        "print(\"F1 Score: \",f1_svm)\n",
        "\n",
        "print(\"The confusion Matrix: \",conf_matrix_svm)\n"
      ],
      "metadata": {
        "colab": {
          "base_uri": "https://localhost:8080/"
        },
        "id": "vxWi7Snt-MxJ",
        "outputId": "4a942ca6-9d33-4cd3-cbd9-457c8293ff25"
      },
      "execution_count": null,
      "outputs": [
        {
          "output_type": "stream",
          "name": "stdout",
          "text": [
            "Accuracy:  0.2857142857142857\n",
            "Precision:  0.4\n",
            "recall:  0.5\n",
            "F1 Score:  0.4444444444444445\n",
            "The confusion Matrix:  [[0 3]\n",
            " [2 2]]\n"
          ]
        }
      ]
    },
    {
      "cell_type": "markdown",
      "source": [
        "Accuracy: 28.57%\n",
        "Precision: 40%\n",
        "Recall: 50%\n",
        "F1 Score: 44.44%\n",
        "\n",
        "\n",
        "Confusion Matrix:\n",
        "True Negatives: 0\n",
        "False Positives: 3\n",
        "False Negatives: 2\n",
        "True Positives: 2"
      ],
      "metadata": {
        "id": "lffhRcOk_zj9"
      }
    },
    {
      "cell_type": "code",
      "source": [
        "import matplotlib.pyplot as plt\n",
        "import seaborn as sns\n",
        "from sklearn.metrics import confusion_matrix\n",
        "cm = confusion_matrix(y_test, y_pred_svm)\n",
        "\n",
        "plt.figure(figsize=(8, 6))\n",
        "sns.heatmap(cm, annot=True, fmt='d', cmap='Blues', xticklabels=['Class 0', 'Class 1'], yticklabels=['Class 0', 'Class 1'])\n",
        "plt.ylabel('Actual')\n",
        "plt.xlabel('Predicted')\n",
        "plt.title('Confusion Matrix')\n",
        "plt.show()"
      ],
      "metadata": {
        "colab": {
          "base_uri": "https://localhost:8080/",
          "height": 564
        },
        "id": "r9cYELai--rS",
        "outputId": "e7b5bb97-aeb2-4c01-f090-8e7f461bf9c7"
      },
      "execution_count": null,
      "outputs": [
        {
          "output_type": "display_data",
          "data": {
            "text/plain": [
              "<Figure size 800x600 with 2 Axes>"
            ],
            "image/png": "[encoded data removed]"
          },
          "metadata": {}
        }
      ]
    },
    {
      "cell_type": "code",
      "source": [
        "from sklearn.svm import SVC\n",
        "from sklearn.model_selection import cross_val_score\n",
        "\n",
        "svm_linear = SVC(kernel='linear')\n",
        "\n",
        "scores = cross_val_score(svm_linear, X_scaled, y, cv=5)\n",
        "\n",
        "print(\"Accuracies for each fold:\", scores)\n",
        "print(\"Mean accuracy:\", scores.mean())\n",
        "print(\"Standard deviation:\", scores.std())"
      ],
      "metadata": {
        "colab": {
          "base_uri": "https://localhost:8080/"
        },
        "id": "iydAhmEZ_tKZ",
        "outputId": "7d928ca9-9e74-4be2-a637-504379b9a01b"
      },
      "execution_count": null,
      "outputs": [
        {
          "output_type": "stream",
          "name": "stdout",
          "text": [
            "Accuracies for each fold: [0.42857143 0.28571429 0.57142857 0.33333333 0.83333333]\n",
            "Mean accuracy: 0.4904761904761904\n",
            "Standard deviation: 0.19726014454483792\n"
          ]
        }
      ]
    },
    {
      "cell_type": "code",
      "source": [
        "\n",
        "from sklearn.model_selection import KFold\n",
        "import numpy as np\n",
        "kf = KFold(n_splits=5, shuffle=True, random_state=42)\n",
        "\n",
        "precisions, recalls, f1s, accuracies = [], [], [], []\n",
        "conf_matrix_sum = None\n",
        "\n",
        "for train_index, test_index in kf.split(X_scaled):\n",
        "\n",
        "    X_train_cv, X_test_cv = X_scaled[train_index], X_scaled[test_index]\n",
        "    y_train_cv, y_test_cv = y.iloc[train_index], y.iloc[test_index]\n",
        "\n",
        "    svm_linear_cv = SVC(kernel='linear', random_state=42)\n",
        "    svm_linear_cv.fit(X_train_cv, y_train_cv)\n",
        "\n",
        "    y_pred_cv = svm_linear_cv.predict(X_test_cv)\n",
        "\n",
        "    precisions.append(precision_score(y_test_cv, y_pred_cv, zero_division=0))\n",
        "    recalls.append(recall_score(y_test_cv, y_pred_cv, zero_division=0))\n",
        "    f1s.append(f1_score(y_test_cv, y_pred_cv, zero_division=0))\n",
        "    accuracies.append(accuracy_score(y_test_cv, y_pred_cv))\n",
        "\n",
        "    cm_fold = confusion_matrix(y_test_cv, y_pred_cv)\n",
        "\n",
        "    if conf_matrix_sum is None:\n",
        "        conf_matrix_sum = cm_fold\n",
        "    else:\n",
        "        conf_matrix_sum += cm_fold\n",
        "\n",
        "avg_precision = np.mean(precisions)\n",
        "avg_recall = np.mean(recalls)\n",
        "avg_f1 = np.mean(f1s)\n",
        "avg_accuracy = np.mean(accuracies)\n",
        "\n",
        "avg_precision, avg_recall, avg_f1, avg_accuracy, conf_matrix_sum\n"
      ],
      "metadata": {
        "colab": {
          "base_uri": "https://localhost:8080/"
        },
        "id": "Rxud2BxD_tT6",
        "outputId": "136c7622-0b65-4e53-d17f-fb2b53ec7c77"
      },
      "execution_count": null,
      "outputs": [
        {
          "output_type": "execute_result",
          "data": {
            "text/plain": [
              "(0.8333333333333333,\n",
              " 0.85,\n",
              " 0.8342857142857143,\n",
              " 0.8,\n",
              " array([[13,  4],\n",
              "        [ 3, 13]]))"
            ]
          },
          "metadata": {},
          "execution_count": 9
        }
      ]
    },
    {
      "cell_type": "code",
      "source": [
        "import matplotlib.pyplot as plt\n",
        "import numpy as np\n",
        "from sklearn.model_selection import KFold\n",
        "from sklearn.svm import SVC\n",
        "from sklearn.metrics import precision_score, recall_score, f1_score, accuracy_score, confusion_matrix\n",
        "\n",
        "kf = KFold(n_splits=5, shuffle=True, random_state=42)\n",
        "\n",
        "precisions, recalls, f1s, accuracies = [], [], [], []\n",
        "conf_matrix_sum = None\n",
        "\n",
        "for train_index, test_index in kf.split(X_scaled):\n",
        "    X_train_cv, X_test_cv = X_scaled[train_index], X_scaled[test_index]\n",
        "    y_train_cv, y_test_cv = y.iloc[train_index], y.iloc[test_index]\n",
        "\n",
        "    svm_linear_cv = SVC(kernel='linear', random_state=42)\n",
        "    svm_linear_cv.fit(X_train_cv, y_train_cv)\n",
        "\n",
        "    y_pred_cv = svm_linear_cv.predict(X_test_cv)\n",
        "\n",
        "    precisions.append(precision_score(y_test_cv, y_pred_cv, zero_division=0))\n",
        "    recalls.append(recall_score(y_test_cv, y_pred_cv, zero_division=0))\n",
        "    f1s.append(f1_score(y_test_cv, y_pred_cv, zero_division=0))\n",
        "    accuracies.append(accuracy_score(y_test_cv, y_pred_cv))\n",
        "\n",
        "    cm_fold = confusion_matrix(y_test_cv, y_pred_cv)\n",
        "\n",
        "    if conf_matrix_sum is None:\n",
        "        conf_matrix_sum = cm_fold\n",
        "    else:\n",
        "        conf_matrix_sum += cm_fold\n",
        "\n",
        "fig, ax = plt.subplots(figsize=(8, 6))\n",
        "cax = ax.matshow(conf_matrix_sum, cmap=plt.cm.Blues)\n",
        "fig.colorbar(cax)\n",
        "\n",
        "plt.title('Cumulative Confusion Matrix')\n",
        "plt.xlabel('Predicted')\n",
        "plt.ylabel('True')\n",
        "ax.set_xticklabels([''] + ['Negative', 'Positive'])\n",
        "ax.set_yticklabels([''] + ['Negative', 'Positive'])\n",
        "\n",
        "for (i, j), val in np.ndenumerate(conf_matrix_sum):\n",
        "    plt.text(j, i, f'{val}', ha='center', va='center', color='black')\n",
        "\n",
        "plt.show()"
      ],
      "metadata": {
        "colab": {
          "base_uri": "https://localhost:8080/",
          "height": 638
        },
        "id": "IIworFcxU5ij",
        "outputId": "2957db86-064c-48df-bdaf-f9df875bd81d"
      },
      "execution_count": null,
      "outputs": [
        {
          "output_type": "stream",
          "name": "stderr",
          "text": [
            "<ipython-input-10-3436d0d7eaa9>:53: UserWarning: FixedFormatter should only be used together with FixedLocator\n",
            "  ax.set_xticklabels([''] + ['Negative', 'Positive'])\n",
            "<ipython-input-10-3436d0d7eaa9>:54: UserWarning: FixedFormatter should only be used together with FixedLocator\n",
            "  ax.set_yticklabels([''] + ['Negative', 'Positive'])\n"
          ]
        },
        {
          "output_type": "display_data",
          "data": {
            "text/plain": [
              "<Figure size 800x600 with 2 Axes>"
            ],
            "image/png": "[encoded data removed]"
          },
          "metadata": {}
        }
      ]
    },
    {
      "cell_type": "code",
      "source": [
        "\n",
        "from sklearn.model_selection import KFold\n",
        "import numpy as np\n",
        "kf = KFold(n_splits=5, shuffle=True, random_state=42)\n",
        "\n",
        "precisions, recalls, f1s, accuracies = [], [], [], []\n",
        "conf_matrix_sum = None\n",
        "\n",
        "for train_index, test_index in kf.split(X_scaled):\n",
        "\n",
        "    X_train_cv, X_test_cv = X_scaled[train_index], X_scaled[test_index]\n",
        "    y_train_cv, y_test_cv = y.iloc[train_index], y.iloc[test_index]\n",
        "\n",
        "    svm_linear_cv = SVC(kernel='poly',degree=2, random_state=42)\n",
        "    svm_linear_cv.fit(X_train_cv, y_train_cv)\n",
        "\n",
        "    y_pred_cv = svm_linear_cv.predict(X_test_cv)\n",
        "\n",
        "    precisions.append(precision_score(y_test_cv, y_pred_cv, zero_division=0))\n",
        "    recalls.append(recall_score(y_test_cv, y_pred_cv, zero_division=0))\n",
        "    f1s.append(f1_score(y_test_cv, y_pred_cv, zero_division=0))\n",
        "    accuracies.append(accuracy_score(y_test_cv, y_pred_cv))\n",
        "\n",
        "    cm_fold = confusion_matrix(y_test_cv, y_pred_cv)\n",
        "\n",
        "    if conf_matrix_sum is None:\n",
        "        conf_matrix_sum = cm_fold\n",
        "    else:\n",
        "        conf_matrix_sum += cm_fold\n",
        "\n",
        "avg_precision = np.mean(precisions)\n",
        "avg_recall = np.mean(recalls)\n",
        "avg_f1 = np.mean(f1s)\n",
        "avg_accuracy = np.mean(accuracies)\n",
        "\n",
        "avg_precision, avg_recall, avg_f1, avg_accuracy, conf_matrix_sum"
      ],
      "metadata": {
        "colab": {
          "base_uri": "https://localhost:8080/"
        },
        "id": "_veHsfXUCOS6",
        "outputId": "6bdb2a39-ae05-4de0-cc1d-5da963d5cc3b"
      },
      "execution_count": null,
      "outputs": [
        {
          "output_type": "execute_result",
          "data": {
            "text/plain": [
              "(0.6,\n",
              " 0.55,\n",
              " 0.5447619047619048,\n",
              " 0.5761904761904761,\n",
              " array([[11,  6],\n",
              "        [ 8,  8]]))"
            ]
          },
          "metadata": {},
          "execution_count": 17
        }
      ]
    },
    {
      "cell_type": "code",
      "source": [],
      "metadata": {
        "id": "E_lfg5jvCb6f"
      },
      "execution_count": null,
      "outputs": []
    },
    {
      "cell_type": "markdown",
      "source": [
        "#Kernel Comparison"
      ],
      "metadata": {
        "id": "UDMfLEZVH3JL"
      }
    },
    {
      "cell_type": "code",
      "source": [
        "from sklearn.svm import SVC, LinearSVC\n",
        "from sklearn.multiclass import OneVsOneClassifier\n",
        "from sklearn.svm import SVC\n",
        "from sklearn.model_selection import KFold\n",
        "from sklearn.metrics import accuracy_score, confusion_matrix\n",
        "import numpy as np\n",
        "\n",
        "svm_configurations = {\n",
        "    \"Linear\": {'kernel': 'linear'},\n",
        "    \"RBF\": {'kernel': 'rbf'},\n",
        "    \"Poly Degree 2\": {'kernel': 'poly', 'degree': 2},\n",
        "    \"Poly Degree 5\": {'kernel': 'poly', 'degree': 5},\n",
        "    \"Poly Degree 8\": {'kernel': 'poly', 'degree': 8},\n",
        "    \"Sigmoid\": {'kernel':'sigmoid'},\n",
        "    \"Linear Gamma=Auto\": {'kernel':'linear', 'gamma':'auto'},\n",
        "}\n",
        "\n",
        "kf = KFold(n_splits=5, shuffle=True, random_state=42)\n",
        "\n",
        "average_accuracies = {}\n",
        "\n",
        "for config_name, params in svm_configurations.items():\n",
        "    accuracies = []\n",
        "    for train_index, test_index in kf.split(X_scaled):\n",
        "        X_train_cv, X_test_cv = X_scaled[train_index], X_scaled[test_index]\n",
        "        y_train_cv, y_test_cv = y.iloc[train_index], y.iloc[test_index]\n",
        "\n",
        "        svm_model = SVC(**params, random_state=42)\n",
        "        svm_model.fit(X_train_cv, y_train_cv)\n",
        "\n",
        "        y_pred_cv = svm_model.predict(X_test_cv)\n",
        "        accuracies.append(accuracy_score(y_test_cv, y_pred_cv))\n",
        "\n",
        "    average_accuracies[config_name] = np.mean(accuracies)\n",
        "\n",
        "average_accuracies"
      ],
      "metadata": {
        "colab": {
          "base_uri": "https://localhost:8080/"
        },
        "id": "viJ4ORneCb9Z",
        "outputId": "d5233005-fa8f-47e5-9380-5b321c37be90"
      },
      "execution_count": null,
      "outputs": [
        {
          "output_type": "execute_result",
          "data": {
            "text/plain": [
              "{'Linear': 0.8,\n",
              " 'RBF': 0.4619047619047619,\n",
              " 'Poly Degree 2': 0.5761904761904761,\n",
              " 'Poly Degree 5': 0.3952380952380952,\n",
              " 'Poly Degree 8': 0.5095238095238096,\n",
              " 'Sigmoid': 0.3380952380952381,\n",
              " 'Linear Gamma=Auto': 0.8}"
            ]
          },
          "metadata": {},
          "execution_count": 32
        }
      ]
    },
    {
      "cell_type": "code",
      "source": [
        "\n",
        "svm_configurations = {\n",
        "    \"Linear\": {'kernel': 'linear'},\n",
        "    \"RBF\": {'kernel': 'rbf'},\n",
        "    \"Poly Degree 2\": {'kernel': 'poly', 'degree': 2},\n",
        "    \"Poly Degree 5\": {'kernel': 'poly', 'degree': 5},\n",
        "    \"Poly Degree 8\": {'kernel': 'poly', 'degree': 8},\n",
        "    \"Sigmoid\": {'kernel': 'sigmoid'},\n",
        "    \"Linear Gamma=Auto\": {'kernel': 'linear', 'gamma': 'auto'},\n",
        "}\n",
        "\n",
        "kf = KFold(n_splits=5, shuffle=True, random_state=42)\n",
        "\n",
        "accuracies_for_each_fold = {}\n",
        "\n",
        "for config_name, params in svm_configurations.items():\n",
        "    fold_accuracies = []\n",
        "\n",
        "    for train_index, test_index in kf.split(X_scaled):\n",
        "        X_train_cv, X_test_cv = X_scaled[train_index], X_scaled[test_index]\n",
        "        y_train_cv, y_test_cv = y.iloc[train_index], y.iloc[test_index]\n",
        "\n",
        "        svm_model = SVC(**params, random_state=42)\n",
        "        svm_model.fit(X_train_cv, y_train_cv)\n",
        "\n",
        "        y_pred_cv = svm_model.predict(X_test_cv)\n",
        "        fold_accuracies.append(accuracy_score(y_test_cv, y_pred_cv))\n",
        "\n",
        "    accuracies_for_each_fold[config_name] = fold_accuracies\n",
        "\n",
        "for config, accuracies in accuracies_for_each_fold.items():\n",
        "    print(f\"Configuration: {config}\")\n",
        "    for i, acc in enumerate(accuracies, start=1):\n",
        "        print(f\" Fold {i}: {acc*100:.2f}%\")\n",
        "    print(f\" Mean Accuracy: {np.mean(accuracies)*100:.2f}%\")\n",
        "    print()"
      ],
      "metadata": {
        "colab": {
          "base_uri": "https://localhost:8080/"
        },
        "id": "N62aR90CTMZa",
        "outputId": "4c4a7541-e9f6-4b80-ba2c-d55c96be36e5"
      },
      "execution_count": null,
      "outputs": [
        {
          "output_type": "stream",
          "name": "stdout",
          "text": [
            "Configuration: Linear\n",
            " Fold 1: 42.86%\n",
            " Fold 2: 100.00%\n",
            " Fold 3: 57.14%\n",
            " Fold 4: 100.00%\n",
            " Fold 5: 100.00%\n",
            " Mean Accuracy: 80.00%\n",
            "\n",
            "Configuration: RBF\n",
            " Fold 1: 28.57%\n",
            " Fold 2: 57.14%\n",
            " Fold 3: 28.57%\n",
            " Fold 4: 50.00%\n",
            " Fold 5: 66.67%\n",
            " Mean Accuracy: 46.19%\n",
            "\n",
            "Configuration: Poly Degree 2\n",
            " Fold 1: 28.57%\n",
            " Fold 2: 85.71%\n",
            " Fold 3: 57.14%\n",
            " Fold 4: 66.67%\n",
            " Fold 5: 50.00%\n",
            " Mean Accuracy: 57.62%\n",
            "\n",
            "Configuration: Poly Degree 5\n",
            " Fold 1: 14.29%\n",
            " Fold 2: 71.43%\n",
            " Fold 3: 28.57%\n",
            " Fold 4: 50.00%\n",
            " Fold 5: 33.33%\n",
            " Mean Accuracy: 39.52%\n",
            "\n",
            "Configuration: Poly Degree 8\n",
            " Fold 1: 71.43%\n",
            " Fold 2: 57.14%\n",
            " Fold 3: 42.86%\n",
            " Fold 4: 50.00%\n",
            " Fold 5: 33.33%\n",
            " Mean Accuracy: 50.95%\n",
            "\n",
            "Configuration: Sigmoid\n",
            " Fold 1: 28.57%\n",
            " Fold 2: 28.57%\n",
            " Fold 3: 28.57%\n",
            " Fold 4: 33.33%\n",
            " Fold 5: 50.00%\n",
            " Mean Accuracy: 33.81%\n",
            "\n",
            "Configuration: Linear Gamma=Auto\n",
            " Fold 1: 42.86%\n",
            " Fold 2: 100.00%\n",
            " Fold 3: 57.14%\n",
            " Fold 4: 100.00%\n",
            " Fold 5: 100.00%\n",
            " Mean Accuracy: 80.00%\n",
            "\n"
          ]
        }
      ]
    },
    {
      "cell_type": "code",
      "source": [
        "\n",
        "svm_configurations = {\n",
        "    \"Linear\": {'kernel': 'linear'},\n",
        "    \"RBF\": {'kernel': 'rbf'},\n",
        "    \"Poly Degree 2\": {'kernel': 'poly', 'degree': 2},\n",
        "    \"Poly Degree 5\": {'kernel': 'poly', 'degree': 5},\n",
        "    \"Poly Degree 8\": {'kernel': 'poly', 'degree': 8},\n",
        "    \"Sigmoid\": {'kernel': 'sigmoid'},\n",
        "    \"Linear Gamma=Auto\": {'kernel': 'linear', 'gamma': 'auto'},\n",
        "\n",
        "}\n",
        "\n",
        "kf = KFold(n_splits=10, shuffle=True, random_state=42)\n",
        "\n",
        "accuracies_for_each_fold = {}\n",
        "\n",
        "for config_name, params in svm_configurations.items():\n",
        "    fold_accuracies = []\n",
        "\n",
        "    for train_index, test_index in kf.split(X_scaled):\n",
        "\n",
        "        X_train_cv, X_test_cv = X_scaled[train_index], X_scaled[test_index]\n",
        "        y_train_cv, y_test_cv = y.iloc[train_index], y.iloc[test_index]\n",
        "\n",
        "        svm_model = SVC(**params, random_state=42)\n",
        "        svm_model.fit(X_train_cv, y_train_cv)\n",
        "\n",
        "        y_pred_cv = svm_model.predict(X_test_cv)\n",
        "        fold_accuracies.append(accuracy_score(y_test_cv, y_pred_cv))\n",
        "\n",
        "    accuracies_for_each_fold[config_name] = fold_accuracies\n",
        "\n",
        "for config, accuracies in accuracies_for_each_fold.items():\n",
        "    print(f\"Configuration: {config}\")\n",
        "    for i, acc in enumerate(accuracies, start=1):\n",
        "        print(f\" Fold {i}: {acc*100:.2f}%\")\n",
        "    print(f\" Mean Accuracy: {np.mean(accuracies)*100:.2f}%\")\n",
        "    print()"
      ],
      "metadata": {
        "colab": {
          "base_uri": "https://localhost:8080/"
        },
        "id": "xB5N51YsU5X9",
        "outputId": "5b6fb2b7-d70c-4447-e161-6c479882c3f5"
      },
      "execution_count": null,
      "outputs": [
        {
          "output_type": "stream",
          "name": "stdout",
          "text": [
            "Configuration: Linear\n",
            " Fold 1: 25.00%\n",
            " Fold 2: 75.00%\n",
            " Fold 3: 75.00%\n",
            " Fold 4: 66.67%\n",
            " Fold 5: 66.67%\n",
            " Fold 6: 33.33%\n",
            " Fold 7: 100.00%\n",
            " Fold 8: 100.00%\n",
            " Fold 9: 100.00%\n",
            " Fold 10: 66.67%\n",
            " Mean Accuracy: 70.83%\n",
            "\n",
            "Configuration: RBF\n",
            " Fold 1: 25.00%\n",
            " Fold 2: 25.00%\n",
            " Fold 3: 25.00%\n",
            " Fold 4: 66.67%\n",
            " Fold 5: 33.33%\n",
            " Fold 6: 0.00%\n",
            " Fold 7: 66.67%\n",
            " Fold 8: 66.67%\n",
            " Fold 9: 66.67%\n",
            " Fold 10: 66.67%\n",
            " Mean Accuracy: 44.17%\n",
            "\n",
            "Configuration: Poly Degree 2\n",
            " Fold 1: 75.00%\n",
            " Fold 2: 50.00%\n",
            " Fold 3: 75.00%\n",
            " Fold 4: 66.67%\n",
            " Fold 5: 100.00%\n",
            " Fold 6: 33.33%\n",
            " Fold 7: 66.67%\n",
            " Fold 8: 66.67%\n",
            " Fold 9: 33.33%\n",
            " Fold 10: 66.67%\n",
            " Mean Accuracy: 63.33%\n",
            "\n",
            "Configuration: Poly Degree 5\n",
            " Fold 1: 25.00%\n",
            " Fold 2: 50.00%\n",
            " Fold 3: 50.00%\n",
            " Fold 4: 66.67%\n",
            " Fold 5: 33.33%\n",
            " Fold 6: 0.00%\n",
            " Fold 7: 66.67%\n",
            " Fold 8: 66.67%\n",
            " Fold 9: 33.33%\n",
            " Fold 10: 66.67%\n",
            " Mean Accuracy: 45.83%\n",
            "\n",
            "Configuration: Poly Degree 8\n",
            " Fold 1: 50.00%\n",
            " Fold 2: 100.00%\n",
            " Fold 3: 75.00%\n",
            " Fold 4: 66.67%\n",
            " Fold 5: 66.67%\n",
            " Fold 6: 0.00%\n",
            " Fold 7: 33.33%\n",
            " Fold 8: 66.67%\n",
            " Fold 9: 66.67%\n",
            " Fold 10: 66.67%\n",
            " Mean Accuracy: 59.17%\n",
            "\n",
            "Configuration: Sigmoid\n",
            " Fold 1: 25.00%\n",
            " Fold 2: 0.00%\n",
            " Fold 3: 25.00%\n",
            " Fold 4: 66.67%\n",
            " Fold 5: 33.33%\n",
            " Fold 6: 0.00%\n",
            " Fold 7: 33.33%\n",
            " Fold 8: 66.67%\n",
            " Fold 9: 66.67%\n",
            " Fold 10: 66.67%\n",
            " Mean Accuracy: 38.33%\n",
            "\n",
            "Configuration: Linear Gamma=Auto\n",
            " Fold 1: 25.00%\n",
            " Fold 2: 75.00%\n",
            " Fold 3: 75.00%\n",
            " Fold 4: 66.67%\n",
            " Fold 5: 66.67%\n",
            " Fold 6: 33.33%\n",
            " Fold 7: 100.00%\n",
            " Fold 8: 100.00%\n",
            " Fold 9: 100.00%\n",
            " Fold 10: 66.67%\n",
            " Mean Accuracy: 70.83%\n",
            "\n"
          ]
        }
      ]
    },
    {
      "cell_type": "code",
      "source": [
        "from sklearn.metrics import precision_score, recall_score, f1_score, confusion_matrix\n",
        "\n",
        "kf = KFold(n_splits=10, shuffle=True, random_state=42)\n",
        "\n",
        "overall_metrics = {}\n",
        "\n",
        "for config_name, params in svm_configurations.items():\n",
        "    total_conf_matrix = np.zeros((2, 2))\n",
        "    total_accuracy, total_precision, total_recall, total_f1 = 0, 0, 0, 0\n",
        "\n",
        "    for train_index, test_index in kf.split(X_scaled):\n",
        "\n",
        "        X_train_cv, X_test_cv = X_scaled[train_index], X_scaled[test_index]\n",
        "        y_train_cv, y_test_cv = y.iloc[train_index], y.iloc[test_index]\n",
        "\n",
        "        svm_model = SVC(**params, random_state=42)\n",
        "        svm_model.fit(X_train_cv, y_train_cv)\n",
        "\n",
        "        y_pred_cv = svm_model.predict(X_test_cv)\n",
        "        total_accuracy += accuracy_score(y_test_cv, y_pred_cv)\n",
        "        total_precision += precision_score(y_test_cv, y_pred_cv, zero_division=0)\n",
        "        total_recall += recall_score(y_test_cv, y_pred_cv, zero_division=0)\n",
        "        total_f1 += f1_score(y_test_cv, y_pred_cv, zero_division=0)\n",
        "        total_conf_matrix += confusion_matrix(y_test_cv, y_pred_cv)\n",
        "\n",
        "    num_folds = kf.get_n_splits()\n",
        "    overall_metrics[config_name] = {\n",
        "        'Mean Accuracy': total_accuracy / num_folds,\n",
        "        'Mean Precision': total_precision / num_folds,\n",
        "        'Mean Recall': total_recall / num_folds,\n",
        "        'Mean F1 Score': total_f1 / num_folds,\n",
        "        'Overall Confusion Matrix': total_conf_matrix\n",
        "    }\n",
        "\n",
        "for config, metrics in overall_metrics.items():\n",
        "    print(f\"Configuration: {config}\")\n",
        "    print(f\" Mean Accuracy: {metrics['Mean Accuracy']*100:.2f}%\")\n",
        "    print(f\" Mean Precision: {metrics['Mean Precision']*100:.2f}%\")\n",
        "    print(f\" Mean Recall: {metrics['Mean Recall']*100:.2f}%\")\n",
        "    print(f\" Mean F1 Score: {metrics['Mean F1 Score']*100:.2f}%\")\n",
        "    print(\" Overall Confusion Matrix:\")\n",
        "    print(metrics['Overall Confusion Matrix'])\n",
        "    print()"
      ],
      "metadata": {
        "colab": {
          "base_uri": "https://localhost:8080/"
        },
        "id": "lII2ATdla8nF",
        "outputId": "2e83b3d6-f46b-4def-a2bf-bba7a95af7c7"
      },
      "execution_count": null,
      "outputs": [
        {
          "output_type": "stream",
          "name": "stdout",
          "text": [
            "Configuration: Linear\n",
            " Mean Accuracy: 70.83%\n",
            " Mean Precision: 60.00%\n",
            " Mean Recall: 68.33%\n",
            " Mean F1 Score: 60.33%\n",
            " Overall Confusion Matrix:\n",
            "[[12.  5.]\n",
            " [ 5. 11.]]\n",
            "\n",
            "Configuration: RBF\n",
            " Mean Accuracy: 44.17%\n",
            " Mean Precision: 39.17%\n",
            " Mean Recall: 55.00%\n",
            " Mean F1 Score: 39.67%\n",
            " Overall Confusion Matrix:\n",
            "[[ 7. 10.]\n",
            " [ 9.  7.]]\n",
            "\n",
            "Configuration: Poly Degree 2\n",
            " Mean Accuracy: 63.33%\n",
            " Mean Precision: 65.00%\n",
            " Mean Recall: 58.33%\n",
            " Mean F1 Score: 55.00%\n",
            " Overall Confusion Matrix:\n",
            "[[13.  4.]\n",
            " [ 8.  8.]]\n",
            "\n",
            "Configuration: Poly Degree 5\n",
            " Mean Accuracy: 45.83%\n",
            " Mean Precision: 28.33%\n",
            " Mean Recall: 25.00%\n",
            " Mean F1 Score: 23.33%\n",
            " Overall Confusion Matrix:\n",
            "[[11.  6.]\n",
            " [12.  4.]]\n",
            "\n",
            "Configuration: Poly Degree 8\n",
            " Mean Accuracy: 59.17%\n",
            " Mean Precision: 25.00%\n",
            " Mean Recall: 25.00%\n",
            " Mean F1 Score: 23.33%\n",
            " Overall Confusion Matrix:\n",
            "[[16.  1.]\n",
            " [12.  4.]]\n",
            "\n",
            "Configuration: Sigmoid\n",
            " Mean Accuracy: 38.33%\n",
            " Mean Precision: 29.17%\n",
            " Mean Recall: 50.00%\n",
            " Mean F1 Score: 33.00%\n",
            " Overall Confusion Matrix:\n",
            "[[ 6. 11.]\n",
            " [10.  6.]]\n",
            "\n",
            "Configuration: Linear Gamma=Auto\n",
            " Mean Accuracy: 70.83%\n",
            " Mean Precision: 60.00%\n",
            " Mean Recall: 68.33%\n",
            " Mean F1 Score: 60.33%\n",
            " Overall Confusion Matrix:\n",
            "[[12.  5.]\n",
            " [ 5. 11.]]\n",
            "\n"
          ]
        }
      ]
    },
    {
      "cell_type": "code",
      "source": [
        "import plotly.graph_objects as go\n",
        "\n",
        "configs = list(average_accuracies.keys())\n",
        "acc_values = [val * 100 for val in average_accuracies.values()]  # Convert to percentages\n",
        "\n",
        "bar_chart = go.Figure([go.Bar(x=configs, y=acc_values)])\n",
        "bar_chart.update_layout(title='SVM Configuration Accuracies - Bar Chart',\n",
        "                        xaxis_title='SVM Configurations',\n",
        "                        yaxis_title='Accuracy (%)',\n",
        "                        xaxis_tickangle=-45,\n",
        "                        yaxis=dict(range=[0, 100]),\n",
        "                        width=800,  # Width of the plot in pixels\n",
        "                        height=600)  # Height of the plot in pixels\n",
        "bar_chart.show()\n",
        "\n",
        "line_chart = go.Figure([go.Scatter(x=configs, y=acc_values, mode='lines+markers')])\n",
        "line_chart.update_layout(title='SVM Configuration Accuracies - Line Chart',\n",
        "                         xaxis_title='SVM Configurations',\n",
        "                         yaxis_title='Accuracy (%)',\n",
        "                         xaxis_tickangle=-45,\n",
        "                         yaxis=dict(range=[0, 100]),\n",
        "                         width=800,  # Width of the plot in pixels\n",
        "                         height=600)  # Height of the plot in pixels\n",
        "line_chart.show()"
      ],
      "metadata": {
        "colab": {
          "base_uri": "https://localhost:8080/",
          "height": 1000
        },
        "id": "mTMZ-Ct4Ngfg",
        "outputId": "d16d0bf9-97f8-42d2-b81b-5adf359b02e9"
      },
      "execution_count": null,
      "outputs": [
        {
          "output_type": "display_data",
          "data": {
            "text/html": [
              "<html>\n",
              "<head><meta charset=\"utf-8\" /></head>\n",
              "<body>\n",
              "    <div>            <script src=\"https://cdnjs.cloudflare.com/ajax/libs/mathjax/2.7.5/MathJax.js?config=TeX-AMS-MML_SVG\"></script><script type=\"text/javascript\">if (window.MathJax && window.MathJax.Hub && window.MathJax.Hub.Config) {window.MathJax.Hub.Config({SVG: {font: \"STIX-Web\"}});}</script>                <script type=\"text/javascript\">window.PlotlyConfig = {MathJaxConfig: 'local'};</script>\n",
              "        <script charset=\"utf-8\" src=\"https://cdn.plot.ly/plotly-2.24.1.min.js\"></script>                <div id=\"0625797e-5683-4902-b6bf-60fa50496ba7\" class=\"plotly-graph-div\" style=\"height:600px; width:800px;\"></div>            <script type=\"text/javascript\">                                    window.PLOTLYENV=window.PLOTLYENV || {};                                    if (document.getElementById(\"0625797e-5683-4902-b6bf-60fa50496ba7\")) {                    Plotly.newPlot(                        \"0625797e-5683-4902-b6bf-60fa50496ba7\",                        [{\"x\":[\"Linear\",\"RBF\",\"Poly Degree 2\",\"Poly Degree 5\",\"Poly Degree 8\",\"Sigmoid\",\"Linear Gamma=Auto\"],\"y\":[80.0,46.19047619047619,57.61904761904761,39.523809523809526,50.95238095238096,33.80952380952381,80.0],\"type\":\"bar\"}],                        {\"template\":{\"data\":{\"histogram2dcontour\":[{\"type\":\"histogram2dcontour\",\"colorbar\":{\"outlinewidth\":0,\"ticks\":\"\"},\"colorscale\":[[0.0,\"#0d0887\"],[0.1111111111111111,\"#46039f\"],[0.2222222222222222,\"#7201a8\"],[0.3333333333333333,\"#9c179e\"],[0.4444444444444444,\"#bd3786\"],[0.5555555555555556,\"#d8576b\"],[0.6666666666666666,\"#ed7953\"],[0.7777777777777778,\"#fb9f3a\"],[0.8888888888888888,\"#fdca26\"],[1.0,\"#f0f921\"]]}],\"choropleth\":[{\"type\":\"choropleth\",\"colorbar\":{\"outlinewidth\":0,\"ticks\":\"\"}}],\"histogram2d\":[{\"type\":\"histogram2d\",\"colorbar\":{\"outlinewidth\":0,\"ticks\":\"\"},\"colorscale\":[[0.0,\"#0d0887\"],[0.1111111111111111,\"#46039f\"],[0.2222222222222222,\"#7201a8\"],[0.3333333333333333,\"#9c179e\"],[0.4444444444444444,\"#bd3786\"],[0.5555555555555556,\"#d8576b\"],[0.6666666666666666,\"#ed7953\"],[0.7777777777777778,\"#fb9f3a\"],[0.8888888888888888,\"#fdca26\"],[1.0,\"#f0f921\"]]}],\"heatmap\":[{\"type\":\"heatmap\",\"colorbar\":{\"outlinewidth\":0,\"ticks\":\"\"},\"colorscale\":[[0.0,\"#0d0887\"],[0.1111111111111111,\"#46039f\"],[0.2222222222222222,\"#7201a8\"],[0.3333333333333333,\"#9c179e\"],[0.4444444444444444,\"#bd3786\"],[0.5555555555555556,\"#d8576b\"],[0.6666666666666666,\"#ed7953\"],[0.7777777777777778,\"#fb9f3a\"],[0.8888888888888888,\"#fdca26\"],[1.0,\"#f0f921\"]]}],\"heatmapgl\":[{\"type\":\"heatmapgl\",\"colorbar\":{\"outlinewidth\":0,\"ticks\":\"\"},\"colorscale\":[[0.0,\"#0d0887\"],[0.1111111111111111,\"#46039f\"],[0.2222222222222222,\"#7201a8\"],[0.3333333333333333,\"#9c179e\"],[0.4444444444444444,\"#bd3786\"],[0.5555555555555556,\"#d8576b\"],[0.6666666666666666,\"#ed7953\"],[0.7777777777777778,\"#fb9f3a\"],[0.8888888888888888,\"#fdca26\"],[1.0,\"#f0f921\"]]}],\"contourcarpet\":[{\"type\":\"contourcarpet\",\"colorbar\":{\"outlinewidth\":0,\"ticks\":\"\"}}],\"contour\":[{\"type\":\"contour\",\"colorbar\":{\"outlinewidth\":0,\"ticks\":\"\"},\"colorscale\":[[0.0,\"#0d0887\"],[0.1111111111111111,\"#46039f\"],[0.2222222222222222,\"#7201a8\"],[0.3333333333333333,\"#9c179e\"],[0.4444444444444444,\"#bd3786\"],[0.5555555555555556,\"#d8576b\"],[0.6666666666666666,\"#ed7953\"],[0.7777777777777778,\"#fb9f3a\"],[0.8888888888888888,\"#fdca26\"],[1.0,\"#f0f921\"]]}],\"surface\":[{\"type\":\"surface\",\"colorbar\":{\"outlinewidth\":0,\"ticks\":\"\"},\"colorscale\":[[0.0,\"#0d0887\"],[0.1111111111111111,\"#46039f\"],[0.2222222222222222,\"#7201a8\"],[0.3333333333333333,\"#9c179e\"],[0.4444444444444444,\"#bd3786\"],[0.5555555555555556,\"#d8576b\"],[0.6666666666666666,\"#ed7953\"],[0.7777777777777778,\"#fb9f3a\"],[0.8888888888888888,\"#fdca26\"],[1.0,\"#f0f921\"]]}],\"mesh3d\":[{\"type\":\"mesh3d\",\"colorbar\":{\"outlinewidth\":0,\"ticks\":\"\"}}],\"scatter\":[{\"fillpattern\":{\"fillmode\":\"overlay\",\"size\":10,\"solidity\":0.2},\"type\":\"scatter\"}],\"parcoords\":[{\"type\":\"parcoords\",\"line\":{\"colorbar\":{\"outlinewidth\":0,\"ticks\":\"\"}}}],\"scatterpolargl\":[{\"type\":\"scatterpolargl\",\"marker\":{\"colorbar\":{\"outlinewidth\":0,\"ticks\":\"\"}}}],\"bar\":[{\"error_x\":{\"color\":\"#2a3f5f\"},\"error_y\":{\"color\":\"#2a3f5f\"},\"marker\":{\"line\":{\"color\":\"#E5ECF6\",\"width\":0.5},\"pattern\":{\"fillmode\":\"overlay\",\"size\":10,\"solidity\":0.2}},\"type\":\"bar\"}],\"scattergeo\":[{\"type\":\"scattergeo\",\"marker\":{\"colorbar\":{\"outlinewidth\":0,\"ticks\":\"\"}}}],\"scatterpolar\":[{\"type\":\"scatterpolar\",\"marker\":{\"colorbar\":{\"outlinewidth\":0,\"ticks\":\"\"}}}],\"histogram\":[{\"marker\":{\"pattern\":{\"fillmode\":\"overlay\",\"size\":10,\"solidity\":0.2}},\"type\":\"histogram\"}],\"scattergl\":[{\"type\":\"scattergl\",\"marker\":{\"colorbar\":{\"outlinewidth\":0,\"ticks\":\"\"}}}],\"scatter3d\":[{\"type\":\"scatter3d\",\"line\":{\"colorbar\":{\"outlinewidth\":0,\"ticks\":\"\"}},\"marker\":{\"colorbar\":{\"outlinewidth\":0,\"ticks\":\"\"}}}],\"scattermapbox\":[{\"type\":\"scattermapbox\",\"marker\":{\"colorbar\":{\"outlinewidth\":0,\"ticks\":\"\"}}}],\"scatterternary\":[{\"type\":\"scatterternary\",\"marker\":{\"colorbar\":{\"outlinewidth\":0,\"ticks\":\"\"}}}],\"scattercarpet\":[{\"type\":\"scattercarpet\",\"marker\":{\"colorbar\":{\"outlinewidth\":0,\"ticks\":\"\"}}}],\"carpet\":[{\"aaxis\":{\"endlinecolor\":\"#2a3f5f\",\"gridcolor\":\"white\",\"linecolor\":\"white\",\"minorgridcolor\":\"white\",\"startlinecolor\":\"#2a3f5f\"},\"baxis\":{\"endlinecolor\":\"#2a3f5f\",\"gridcolor\":\"white\",\"linecolor\":\"white\",\"minorgridcolor\":\"white\",\"startlinecolor\":\"#2a3f5f\"},\"type\":\"carpet\"}],\"table\":[{\"cells\":{\"fill\":{\"color\":\"#EBF0F8\"},\"line\":{\"color\":\"white\"}},\"header\":{\"fill\":{\"color\":\"#C8D4E3\"},\"line\":{\"color\":\"white\"}},\"type\":\"table\"}],\"barpolar\":[{\"marker\":{\"line\":{\"color\":\"#E5ECF6\",\"width\":0.5},\"pattern\":{\"fillmode\":\"overlay\",\"size\":10,\"solidity\":0.2}},\"type\":\"barpolar\"}],\"pie\":[{\"automargin\":true,\"type\":\"pie\"}]},\"layout\":{\"autotypenumbers\":\"strict\",\"colorway\":[\"#636efa\",\"#EF553B\",\"#00cc96\",\"#ab63fa\",\"#FFA15A\",\"#19d3f3\",\"#FF6692\",\"#B6E880\",\"#FF97FF\",\"#FECB52\"],\"font\":{\"color\":\"#2a3f5f\"},\"hovermode\":\"closest\",\"hoverlabel\":{\"align\":\"left\"},\"paper_bgcolor\":\"white\",\"plot_bgcolor\":\"#E5ECF6\",\"polar\":{\"bgcolor\":\"#E5ECF6\",\"angularaxis\":{\"gridcolor\":\"white\",\"linecolor\":\"white\",\"ticks\":\"\"},\"radialaxis\":{\"gridcolor\":\"white\",\"linecolor\":\"white\",\"ticks\":\"\"}},\"ternary\":{\"bgcolor\":\"#E5ECF6\",\"aaxis\":{\"gridcolor\":\"white\",\"linecolor\":\"white\",\"ticks\":\"\"},\"baxis\":{\"gridcolor\":\"white\",\"linecolor\":\"white\",\"ticks\":\"\"},\"caxis\":{\"gridcolor\":\"white\",\"linecolor\":\"white\",\"ticks\":\"\"}},\"coloraxis\":{\"colorbar\":{\"outlinewidth\":0,\"ticks\":\"\"}},\"colorscale\":{\"sequential\":[[0.0,\"#0d0887\"],[0.1111111111111111,\"#46039f\"],[0.2222222222222222,\"#7201a8\"],[0.3333333333333333,\"#9c179e\"],[0.4444444444444444,\"#bd3786\"],[0.5555555555555556,\"#d8576b\"],[0.6666666666666666,\"#ed7953\"],[0.7777777777777778,\"#fb9f3a\"],[0.8888888888888888,\"#fdca26\"],[1.0,\"#f0f921\"]],\"sequentialminus\":[[0.0,\"#0d0887\"],[0.1111111111111111,\"#46039f\"],[0.2222222222222222,\"#7201a8\"],[0.3333333333333333,\"#9c179e\"],[0.4444444444444444,\"#bd3786\"],[0.5555555555555556,\"#d8576b\"],[0.6666666666666666,\"#ed7953\"],[0.7777777777777778,\"#fb9f3a\"],[0.8888888888888888,\"#fdca26\"],[1.0,\"#f0f921\"]],\"diverging\":[[0,\"#8e0152\"],[0.1,\"#c51b7d\"],[0.2,\"#de77ae\"],[0.3,\"#f1b6da\"],[0.4,\"#fde0ef\"],[0.5,\"#f7f7f7\"],[0.6,\"#e6f5d0\"],[0.7,\"#b8e186\"],[0.8,\"#7fbc41\"],[0.9,\"#4d9221\"],[1,\"#276419\"]]},\"xaxis\":{\"gridcolor\":\"white\",\"linecolor\":\"white\",\"ticks\":\"\",\"title\":{\"standoff\":15},\"zerolinecolor\":\"white\",\"automargin\":true,\"zerolinewidth\":2},\"yaxis\":{\"gridcolor\":\"white\",\"linecolor\":\"white\",\"ticks\":\"\",\"title\":{\"standoff\":15},\"zerolinecolor\":\"white\",\"automargin\":true,\"zerolinewidth\":2},\"scene\":{\"xaxis\":{\"backgroundcolor\":\"#E5ECF6\",\"gridcolor\":\"white\",\"linecolor\":\"white\",\"showbackground\":true,\"ticks\":\"\",\"zerolinecolor\":\"white\",\"gridwidth\":2},\"yaxis\":{\"backgroundcolor\":\"#E5ECF6\",\"gridcolor\":\"white\",\"linecolor\":\"white\",\"showbackground\":true,\"ticks\":\"\",\"zerolinecolor\":\"white\",\"gridwidth\":2},\"zaxis\":{\"backgroundcolor\":\"#E5ECF6\",\"gridcolor\":\"white\",\"linecolor\":\"white\",\"showbackground\":true,\"ticks\":\"\",\"zerolinecolor\":\"white\",\"gridwidth\":2}},\"shapedefaults\":{\"line\":{\"color\":\"#2a3f5f\"}},\"annotationdefaults\":{\"arrowcolor\":\"#2a3f5f\",\"arrowhead\":0,\"arrowwidth\":1},\"geo\":{\"bgcolor\":\"white\",\"landcolor\":\"#E5ECF6\",\"subunitcolor\":\"white\",\"showland\":true,\"showlakes\":true,\"lakecolor\":\"white\"},\"title\":{\"x\":0.05},\"mapbox\":{\"style\":\"light\"}}},\"xaxis\":{\"title\":{\"text\":\"SVM Configurations\"},\"tickangle\":-45},\"yaxis\":{\"title\":{\"text\":\"Accuracy (%)\"},\"range\":[0,100]},\"title\":{\"text\":\"SVM Configuration Accuracies - Bar Chart\"},\"width\":800,\"height\":600},                        {\"responsive\": true}                    ).then(function(){\n",
              "                            \n",
              "var gd = document.getElementById('0625797e-5683-4902-b6bf-60fa50496ba7');\n",
              "var x = new MutationObserver(function (mutations, observer) {{\n",
              "        var display = window.getComputedStyle(gd).display;\n",
              "        if (!display || display === 'none') {{\n",
              "            console.log([gd, 'removed!']);\n",
              "            Plotly.purge(gd);\n",
              "            observer.disconnect();\n",
              "        }}\n",
              "}});\n",
              "\n",
              "// Listen for the removal of the full notebook cells\n",
              "var notebookContainer = gd.closest('#notebook-container');\n",
              "if (notebookContainer) {{\n",
              "    x.observe(notebookContainer, {childList: true});\n",
              "}}\n",
              "\n",
              "// Listen for the clearing of the current output cell\n",
              "var outputEl = gd.closest('.output');\n",
              "if (outputEl) {{\n",
              "    x.observe(outputEl, {childList: true});\n",
              "}}\n",
              "\n",
              "                        })                };                            </script>        </div>\n",
              "</body>\n",
              "</html>"
            ]
          },
          "metadata": {}
        },
        {
          "output_type": "display_data",
          "data": {
            "text/html": [
              "<html>\n",
              "<head><meta charset=\"utf-8\" /></head>\n",
              "<body>\n",
              "    <div>            <script src=\"https://cdnjs.cloudflare.com/ajax/libs/mathjax/2.7.5/MathJax.js?config=TeX-AMS-MML_SVG\"></script><script type=\"text/javascript\">if (window.MathJax && window.MathJax.Hub && window.MathJax.Hub.Config) {window.MathJax.Hub.Config({SVG: {font: \"STIX-Web\"}});}</script>                <script type=\"text/javascript\">window.PlotlyConfig = {MathJaxConfig: 'local'};</script>\n",
              "        <script charset=\"utf-8\" src=\"https://cdn.plot.ly/plotly-2.24.1.min.js\"></script>                <div id=\"38a7b90d-2917-4014-a95e-a80e17b69767\" class=\"plotly-graph-div\" style=\"height:600px; width:800px;\"></div>            <script type=\"text/javascript\">                                    window.PLOTLYENV=window.PLOTLYENV || {};                                    if (document.getElementById(\"38a7b90d-2917-4014-a95e-a80e17b69767\")) {                    Plotly.newPlot(                        \"38a7b90d-2917-4014-a95e-a80e17b69767\",                        [{\"mode\":\"lines+markers\",\"x\":[\"Linear\",\"RBF\",\"Poly Degree 2\",\"Poly Degree 5\",\"Poly Degree 8\",\"Sigmoid\",\"Linear Gamma=Auto\"],\"y\":[80.0,46.19047619047619,57.61904761904761,39.523809523809526,50.95238095238096,33.80952380952381,80.0],\"type\":\"scatter\"}],                        {\"template\":{\"data\":{\"histogram2dcontour\":[{\"type\":\"histogram2dcontour\",\"colorbar\":{\"outlinewidth\":0,\"ticks\":\"\"},\"colorscale\":[[0.0,\"#0d0887\"],[0.1111111111111111,\"#46039f\"],[0.2222222222222222,\"#7201a8\"],[0.3333333333333333,\"#9c179e\"],[0.4444444444444444,\"#bd3786\"],[0.5555555555555556,\"#d8576b\"],[0.6666666666666666,\"#ed7953\"],[0.7777777777777778,\"#fb9f3a\"],[0.8888888888888888,\"#fdca26\"],[1.0,\"#f0f921\"]]}],\"choropleth\":[{\"type\":\"choropleth\",\"colorbar\":{\"outlinewidth\":0,\"ticks\":\"\"}}],\"histogram2d\":[{\"type\":\"histogram2d\",\"colorbar\":{\"outlinewidth\":0,\"ticks\":\"\"},\"colorscale\":[[0.0,\"#0d0887\"],[0.1111111111111111,\"#46039f\"],[0.2222222222222222,\"#7201a8\"],[0.3333333333333333,\"#9c179e\"],[0.4444444444444444,\"#bd3786\"],[0.5555555555555556,\"#d8576b\"],[0.6666666666666666,\"#ed7953\"],[0.7777777777777778,\"#fb9f3a\"],[0.8888888888888888,\"#fdca26\"],[1.0,\"#f0f921\"]]}],\"heatmap\":[{\"type\":\"heatmap\",\"colorbar\":{\"outlinewidth\":0,\"ticks\":\"\"},\"colorscale\":[[0.0,\"#0d0887\"],[0.1111111111111111,\"#46039f\"],[0.2222222222222222,\"#7201a8\"],[0.3333333333333333,\"#9c179e\"],[0.4444444444444444,\"#bd3786\"],[0.5555555555555556,\"#d8576b\"],[0.6666666666666666,\"#ed7953\"],[0.7777777777777778,\"#fb9f3a\"],[0.8888888888888888,\"#fdca26\"],[1.0,\"#f0f921\"]]}],\"heatmapgl\":[{\"type\":\"heatmapgl\",\"colorbar\":{\"outlinewidth\":0,\"ticks\":\"\"},\"colorscale\":[[0.0,\"#0d0887\"],[0.1111111111111111,\"#46039f\"],[0.2222222222222222,\"#7201a8\"],[0.3333333333333333,\"#9c179e\"],[0.4444444444444444,\"#bd3786\"],[0.5555555555555556,\"#d8576b\"],[0.6666666666666666,\"#ed7953\"],[0.7777777777777778,\"#fb9f3a\"],[0.8888888888888888,\"#fdca26\"],[1.0,\"#f0f921\"]]}],\"contourcarpet\":[{\"type\":\"contourcarpet\",\"colorbar\":{\"outlinewidth\":0,\"ticks\":\"\"}}],\"contour\":[{\"type\":\"contour\",\"colorbar\":{\"outlinewidth\":0,\"ticks\":\"\"},\"colorscale\":[[0.0,\"#0d0887\"],[0.1111111111111111,\"#46039f\"],[0.2222222222222222,\"#7201a8\"],[0.3333333333333333,\"#9c179e\"],[0.4444444444444444,\"#bd3786\"],[0.5555555555555556,\"#d8576b\"],[0.6666666666666666,\"#ed7953\"],[0.7777777777777778,\"#fb9f3a\"],[0.8888888888888888,\"#fdca26\"],[1.0,\"#f0f921\"]]}],\"surface\":[{\"type\":\"surface\",\"colorbar\":{\"outlinewidth\":0,\"ticks\":\"\"},\"colorscale\":[[0.0,\"#0d0887\"],[0.1111111111111111,\"#46039f\"],[0.2222222222222222,\"#7201a8\"],[0.3333333333333333,\"#9c179e\"],[0.4444444444444444,\"#bd3786\"],[0.5555555555555556,\"#d8576b\"],[0.6666666666666666,\"#ed7953\"],[0.7777777777777778,\"#fb9f3a\"],[0.8888888888888888,\"#fdca26\"],[1.0,\"#f0f921\"]]}],\"mesh3d\":[{\"type\":\"mesh3d\",\"colorbar\":{\"outlinewidth\":0,\"ticks\":\"\"}}],\"scatter\":[{\"fillpattern\":{\"fillmode\":\"overlay\",\"size\":10,\"solidity\":0.2},\"type\":\"scatter\"}],\"parcoords\":[{\"type\":\"parcoords\",\"line\":{\"colorbar\":{\"outlinewidth\":0,\"ticks\":\"\"}}}],\"scatterpolargl\":[{\"type\":\"scatterpolargl\",\"marker\":{\"colorbar\":{\"outlinewidth\":0,\"ticks\":\"\"}}}],\"bar\":[{\"error_x\":{\"color\":\"#2a3f5f\"},\"error_y\":{\"color\":\"#2a3f5f\"},\"marker\":{\"line\":{\"color\":\"#E5ECF6\",\"width\":0.5},\"pattern\":{\"fillmode\":\"overlay\",\"size\":10,\"solidity\":0.2}},\"type\":\"bar\"}],\"scattergeo\":[{\"type\":\"scattergeo\",\"marker\":{\"colorbar\":{\"outlinewidth\":0,\"ticks\":\"\"}}}],\"scatterpolar\":[{\"type\":\"scatterpolar\",\"marker\":{\"colorbar\":{\"outlinewidth\":0,\"ticks\":\"\"}}}],\"histogram\":[{\"marker\":{\"pattern\":{\"fillmode\":\"overlay\",\"size\":10,\"solidity\":0.2}},\"type\":\"histogram\"}],\"scattergl\":[{\"type\":\"scattergl\",\"marker\":{\"colorbar\":{\"outlinewidth\":0,\"ticks\":\"\"}}}],\"scatter3d\":[{\"type\":\"scatter3d\",\"line\":{\"colorbar\":{\"outlinewidth\":0,\"ticks\":\"\"}},\"marker\":{\"colorbar\":{\"outlinewidth\":0,\"ticks\":\"\"}}}],\"scattermapbox\":[{\"type\":\"scattermapbox\",\"marker\":{\"colorbar\":{\"outlinewidth\":0,\"ticks\":\"\"}}}],\"scatterternary\":[{\"type\":\"scatterternary\",\"marker\":{\"colorbar\":{\"outlinewidth\":0,\"ticks\":\"\"}}}],\"scattercarpet\":[{\"type\":\"scattercarpet\",\"marker\":{\"colorbar\":{\"outlinewidth\":0,\"ticks\":\"\"}}}],\"carpet\":[{\"aaxis\":{\"endlinecolor\":\"#2a3f5f\",\"gridcolor\":\"white\",\"linecolor\":\"white\",\"minorgridcolor\":\"white\",\"startlinecolor\":\"#2a3f5f\"},\"baxis\":{\"endlinecolor\":\"#2a3f5f\",\"gridcolor\":\"white\",\"linecolor\":\"white\",\"minorgridcolor\":\"white\",\"startlinecolor\":\"#2a3f5f\"},\"type\":\"carpet\"}],\"table\":[{\"cells\":{\"fill\":{\"color\":\"#EBF0F8\"},\"line\":{\"color\":\"white\"}},\"header\":{\"fill\":{\"color\":\"#C8D4E3\"},\"line\":{\"color\":\"white\"}},\"type\":\"table\"}],\"barpolar\":[{\"marker\":{\"line\":{\"color\":\"#E5ECF6\",\"width\":0.5},\"pattern\":{\"fillmode\":\"overlay\",\"size\":10,\"solidity\":0.2}},\"type\":\"barpolar\"}],\"pie\":[{\"automargin\":true,\"type\":\"pie\"}]},\"layout\":{\"autotypenumbers\":\"strict\",\"colorway\":[\"#636efa\",\"#EF553B\",\"#00cc96\",\"#ab63fa\",\"#FFA15A\",\"#19d3f3\",\"#FF6692\",\"#B6E880\",\"#FF97FF\",\"#FECB52\"],\"font\":{\"color\":\"#2a3f5f\"},\"hovermode\":\"closest\",\"hoverlabel\":{\"align\":\"left\"},\"paper_bgcolor\":\"white\",\"plot_bgcolor\":\"#E5ECF6\",\"polar\":{\"bgcolor\":\"#E5ECF6\",\"angularaxis\":{\"gridcolor\":\"white\",\"linecolor\":\"white\",\"ticks\":\"\"},\"radialaxis\":{\"gridcolor\":\"white\",\"linecolor\":\"white\",\"ticks\":\"\"}},\"ternary\":{\"bgcolor\":\"#E5ECF6\",\"aaxis\":{\"gridcolor\":\"white\",\"linecolor\":\"white\",\"ticks\":\"\"},\"baxis\":{\"gridcolor\":\"white\",\"linecolor\":\"white\",\"ticks\":\"\"},\"caxis\":{\"gridcolor\":\"white\",\"linecolor\":\"white\",\"ticks\":\"\"}},\"coloraxis\":{\"colorbar\":{\"outlinewidth\":0,\"ticks\":\"\"}},\"colorscale\":{\"sequential\":[[0.0,\"#0d0887\"],[0.1111111111111111,\"#46039f\"],[0.2222222222222222,\"#7201a8\"],[0.3333333333333333,\"#9c179e\"],[0.4444444444444444,\"#bd3786\"],[0.5555555555555556,\"#d8576b\"],[0.6666666666666666,\"#ed7953\"],[0.7777777777777778,\"#fb9f3a\"],[0.8888888888888888,\"#fdca26\"],[1.0,\"#f0f921\"]],\"sequentialminus\":[[0.0,\"#0d0887\"],[0.1111111111111111,\"#46039f\"],[0.2222222222222222,\"#7201a8\"],[0.3333333333333333,\"#9c179e\"],[0.4444444444444444,\"#bd3786\"],[0.5555555555555556,\"#d8576b\"],[0.6666666666666666,\"#ed7953\"],[0.7777777777777778,\"#fb9f3a\"],[0.8888888888888888,\"#fdca26\"],[1.0,\"#f0f921\"]],\"diverging\":[[0,\"#8e0152\"],[0.1,\"#c51b7d\"],[0.2,\"#de77ae\"],[0.3,\"#f1b6da\"],[0.4,\"#fde0ef\"],[0.5,\"#f7f7f7\"],[0.6,\"#e6f5d0\"],[0.7,\"#b8e186\"],[0.8,\"#7fbc41\"],[0.9,\"#4d9221\"],[1,\"#276419\"]]},\"xaxis\":{\"gridcolor\":\"white\",\"linecolor\":\"white\",\"ticks\":\"\",\"title\":{\"standoff\":15},\"zerolinecolor\":\"white\",\"automargin\":true,\"zerolinewidth\":2},\"yaxis\":{\"gridcolor\":\"white\",\"linecolor\":\"white\",\"ticks\":\"\",\"title\":{\"standoff\":15},\"zerolinecolor\":\"white\",\"automargin\":true,\"zerolinewidth\":2},\"scene\":{\"xaxis\":{\"backgroundcolor\":\"#E5ECF6\",\"gridcolor\":\"white\",\"linecolor\":\"white\",\"showbackground\":true,\"ticks\":\"\",\"zerolinecolor\":\"white\",\"gridwidth\":2},\"yaxis\":{\"backgroundcolor\":\"#E5ECF6\",\"gridcolor\":\"white\",\"linecolor\":\"white\",\"showbackground\":true,\"ticks\":\"\",\"zerolinecolor\":\"white\",\"gridwidth\":2},\"zaxis\":{\"backgroundcolor\":\"#E5ECF6\",\"gridcolor\":\"white\",\"linecolor\":\"white\",\"showbackground\":true,\"ticks\":\"\",\"zerolinecolor\":\"white\",\"gridwidth\":2}},\"shapedefaults\":{\"line\":{\"color\":\"#2a3f5f\"}},\"annotationdefaults\":{\"arrowcolor\":\"#2a3f5f\",\"arrowhead\":0,\"arrowwidth\":1},\"geo\":{\"bgcolor\":\"white\",\"landcolor\":\"#E5ECF6\",\"subunitcolor\":\"white\",\"showland\":true,\"showlakes\":true,\"lakecolor\":\"white\"},\"title\":{\"x\":0.05},\"mapbox\":{\"style\":\"light\"}}},\"xaxis\":{\"title\":{\"text\":\"SVM Configurations\"},\"tickangle\":-45},\"yaxis\":{\"title\":{\"text\":\"Accuracy (%)\"},\"range\":[0,100]},\"title\":{\"text\":\"SVM Configuration Accuracies - Line Chart\"},\"width\":800,\"height\":600},                        {\"responsive\": true}                    ).then(function(){\n",
              "                            \n",
              "var gd = document.getElementById('38a7b90d-2917-4014-a95e-a80e17b69767');\n",
              "var x = new MutationObserver(function (mutations, observer) {{\n",
              "        var display = window.getComputedStyle(gd).display;\n",
              "        if (!display || display === 'none') {{\n",
              "            console.log([gd, 'removed!']);\n",
              "            Plotly.purge(gd);\n",
              "            observer.disconnect();\n",
              "        }}\n",
              "}});\n",
              "\n",
              "// Listen for the removal of the full notebook cells\n",
              "var notebookContainer = gd.closest('#notebook-container');\n",
              "if (notebookContainer) {{\n",
              "    x.observe(notebookContainer, {childList: true});\n",
              "}}\n",
              "\n",
              "// Listen for the clearing of the current output cell\n",
              "var outputEl = gd.closest('.output');\n",
              "if (outputEl) {{\n",
              "    x.observe(outputEl, {childList: true});\n",
              "}}\n",
              "\n",
              "                        })                };                            </script>        </div>\n",
              "</body>\n",
              "</html>"
            ]
          },
          "metadata": {}
        }
      ]
    },
    {
      "cell_type": "code",
      "source": [
        "from sklearn.svm import SVC\n",
        "from sklearn.model_selection import KFold\n",
        "from sklearn.metrics import accuracy_score\n",
        "import numpy as np\n",
        "\n",
        "svm_configurations = {\n",
        "    \"Linear\": {'kernel': 'linear'},\n",
        "    \"RBF\": {'kernel': 'rbf'},\n",
        "    \"Poly Degree 2\": {'kernel': 'poly', 'degree': 2},\n",
        "    \"Poly Degree 5\": {'kernel': 'poly', 'degree': 5},\n",
        "    \"Poly Degree 8\": {'kernel': 'poly', 'degree': 8},\n",
        "    \"Sigmoid\": {'kernel': 'sigmoid'},\n",
        "    \"Linear Gamma=Auto\": {'kernel': 'linear', 'gamma': 'auto'},\n",
        "}\n",
        "\n",
        "kf_5 = KFold(n_splits=5, shuffle=True, random_state=42)\n",
        "kf_10 = KFold(n_splits=10, shuffle=True, random_state=42)\n",
        "\n",
        "average_accuracies_5_fold = {}\n",
        "average_accuracies_10_fold = {}\n",
        "\n",
        "def perform_cv(kf, svm_configurations, X_scaled, y):\n",
        "    accuracies = {}\n",
        "    for config_name, params in svm_configurations.items():\n",
        "        fold_accuracies = []\n",
        "        for train_index, test_index in kf.split(X_scaled):\n",
        "            X_train_cv, X_test_cv = X_scaled[train_index], X_scaled[test_index]\n",
        "            y_train_cv, y_test_cv = y.iloc[train_index], y.iloc[test_index]\n",
        "\n",
        "            svm_model = SVC(**params, random_state=42)\n",
        "            svm_model.fit(X_train_cv, y_train_cv)\n",
        "\n",
        "            y_pred_cv = svm_model.predict(X_test_cv)\n",
        "            fold_accuracies.append(accuracy_score(y_test_cv, y_pred_cv))\n",
        "\n",
        "        accuracies[config_name] = np.mean(fold_accuracies)\n",
        "    return accuracies\n",
        "\n",
        "average_accuracies_5_fold = perform_cv(kf_5, svm_configurations, X_scaled, y)\n",
        "average_accuracies_10_fold = perform_cv(kf_10, svm_configurations, X_scaled, y)\n",
        "\n",
        "print(\"5-Fold Accuracies:\", average_accuracies_5_fold)\n",
        "print(\"10-Fold Accuracies:\", average_accuracies_10_fold)"
      ],
      "metadata": {
        "colab": {
          "base_uri": "https://localhost:8080/"
        },
        "id": "EAl_HMsjQHDD",
        "outputId": "f3a78e31-65f4-4883-b7e5-b47418232043"
      },
      "execution_count": null,
      "outputs": [
        {
          "output_type": "stream",
          "name": "stdout",
          "text": [
            "5-Fold Accuracies: {'Linear': 0.8, 'RBF': 0.4619047619047619, 'Poly Degree 2': 0.5761904761904761, 'Poly Degree 5': 0.3952380952380952, 'Poly Degree 8': 0.5095238095238096, 'Sigmoid': 0.3380952380952381, 'Linear Gamma=Auto': 0.8}\n",
            "10-Fold Accuracies: {'Linear': 0.7083333333333333, 'RBF': 0.4416666666666666, 'Poly Degree 2': 0.6333333333333333, 'Poly Degree 5': 0.4583333333333333, 'Poly Degree 8': 0.5916666666666667, 'Sigmoid': 0.3833333333333333, 'Linear Gamma=Auto': 0.7083333333333333}\n"
          ]
        }
      ]
    },
    {
      "cell_type": "code",
      "source": [
        "import plotly.graph_objects as go\n",
        "\n",
        "configs = list(average_accuracies_5_fold.keys())\n",
        "acc_values_5_fold = [val * 100 for val in average_accuracies_5_fold.values()]\n",
        "acc_values_10_fold = [val * 100 for val in average_accuracies_10_fold.values()]\n",
        "\n",
        "fig = go.Figure()\n",
        "\n",
        "fig.add_trace(go.Bar(\n",
        "    x=configs,\n",
        "    y=acc_values_5_fold,\n",
        "    name='5-Fold CV',\n",
        "    marker_color='indianred'\n",
        "))\n",
        "\n",
        "fig.add_trace(go.Bar(\n",
        "    x=configs,\n",
        "    y=acc_values_10_fold,\n",
        "    name='10-Fold CV',\n",
        "    marker_color='lightblue'\n",
        "))\n",
        "\n",
        "fig.update_layout(\n",
        "    title='SVM Configuration Accuracies - 5-Fold(Long Fold) vs 10-Fold(Small Fold) CV',\n",
        "    xaxis_title='SVM Configurations',\n",
        "    yaxis_title='Accuracy (%)',\n",
        "    xaxis_tickangle=-45,\n",
        "    yaxis=dict(range=[0, 100]),\n",
        "    barmode='group',\n",
        "    width=800,\n",
        "    height=600\n",
        ")\n",
        "\n",
        "fig.show()"
      ],
      "metadata": {
        "colab": {
          "base_uri": "https://localhost:8080/",
          "height": 617
        },
        "id": "fiHMzKvuQHIf",
        "outputId": "7d2acbd9-f624-407f-cac5-9c3b38fec35e"
      },
      "execution_count": null,
      "outputs": [
        {
          "output_type": "display_data",
          "data": {
            "text/html": [
              "<html>\n",
              "<head><meta charset=\"utf-8\" /></head>\n",
              "<body>\n",
              "    <div>            <script src=\"https://cdnjs.cloudflare.com/ajax/libs/mathjax/2.7.5/MathJax.js?config=TeX-AMS-MML_SVG\"></script><script type=\"text/javascript\">if (window.MathJax && window.MathJax.Hub && window.MathJax.Hub.Config) {window.MathJax.Hub.Config({SVG: {font: \"STIX-Web\"}});}</script>                <script type=\"text/javascript\">window.PlotlyConfig = {MathJaxConfig: 'local'};</script>\n",
              "        <script charset=\"utf-8\" src=\"https://cdn.plot.ly/plotly-2.24.1.min.js\"></script>                <div id=\"7e82d4e7-a259-4b82-afd8-1e80a373bfb4\" class=\"plotly-graph-div\" style=\"height:600px; width:800px;\"></div>            <script type=\"text/javascript\">                                    window.PLOTLYENV=window.PLOTLYENV || {};                                    if (document.getElementById(\"7e82d4e7-a259-4b82-afd8-1e80a373bfb4\")) {                    Plotly.newPlot(                        \"7e82d4e7-a259-4b82-afd8-1e80a373bfb4\",                        [{\"marker\":{\"color\":\"indianred\"},\"name\":\"5-Fold CV\",\"x\":[\"Linear\",\"RBF\",\"Poly Degree 2\",\"Poly Degree 5\",\"Poly Degree 8\",\"Sigmoid\",\"Linear Gamma=Auto\"],\"y\":[80.0,46.19047619047619,57.61904761904761,39.523809523809526,50.95238095238096,33.80952380952381,80.0],\"type\":\"bar\"},{\"marker\":{\"color\":\"lightblue\"},\"name\":\"10-Fold CV\",\"x\":[\"Linear\",\"RBF\",\"Poly Degree 2\",\"Poly Degree 5\",\"Poly Degree 8\",\"Sigmoid\",\"Linear Gamma=Auto\"],\"y\":[70.83333333333333,44.16666666666666,63.33333333333333,45.83333333333333,59.166666666666664,38.33333333333333,70.83333333333333],\"type\":\"bar\"}],                        {\"template\":{\"data\":{\"histogram2dcontour\":[{\"type\":\"histogram2dcontour\",\"colorbar\":{\"outlinewidth\":0,\"ticks\":\"\"},\"colorscale\":[[0.0,\"#0d0887\"],[0.1111111111111111,\"#46039f\"],[0.2222222222222222,\"#7201a8\"],[0.3333333333333333,\"#9c179e\"],[0.4444444444444444,\"#bd3786\"],[0.5555555555555556,\"#d8576b\"],[0.6666666666666666,\"#ed7953\"],[0.7777777777777778,\"#fb9f3a\"],[0.8888888888888888,\"#fdca26\"],[1.0,\"#f0f921\"]]}],\"choropleth\":[{\"type\":\"choropleth\",\"colorbar\":{\"outlinewidth\":0,\"ticks\":\"\"}}],\"histogram2d\":[{\"type\":\"histogram2d\",\"colorbar\":{\"outlinewidth\":0,\"ticks\":\"\"},\"colorscale\":[[0.0,\"#0d0887\"],[0.1111111111111111,\"#46039f\"],[0.2222222222222222,\"#7201a8\"],[0.3333333333333333,\"#9c179e\"],[0.4444444444444444,\"#bd3786\"],[0.5555555555555556,\"#d8576b\"],[0.6666666666666666,\"#ed7953\"],[0.7777777777777778,\"#fb9f3a\"],[0.8888888888888888,\"#fdca26\"],[1.0,\"#f0f921\"]]}],\"heatmap\":[{\"type\":\"heatmap\",\"colorbar\":{\"outlinewidth\":0,\"ticks\":\"\"},\"colorscale\":[[0.0,\"#0d0887\"],[0.1111111111111111,\"#46039f\"],[0.2222222222222222,\"#7201a8\"],[0.3333333333333333,\"#9c179e\"],[0.4444444444444444,\"#bd3786\"],[0.5555555555555556,\"#d8576b\"],[0.6666666666666666,\"#ed7953\"],[0.7777777777777778,\"#fb9f3a\"],[0.8888888888888888,\"#fdca26\"],[1.0,\"#f0f921\"]]}],\"heatmapgl\":[{\"type\":\"heatmapgl\",\"colorbar\":{\"outlinewidth\":0,\"ticks\":\"\"},\"colorscale\":[[0.0,\"#0d0887\"],[0.1111111111111111,\"#46039f\"],[0.2222222222222222,\"#7201a8\"],[0.3333333333333333,\"#9c179e\"],[0.4444444444444444,\"#bd3786\"],[0.5555555555555556,\"#d8576b\"],[0.6666666666666666,\"#ed7953\"],[0.7777777777777778,\"#fb9f3a\"],[0.8888888888888888,\"#fdca26\"],[1.0,\"#f0f921\"]]}],\"contourcarpet\":[{\"type\":\"contourcarpet\",\"colorbar\":{\"outlinewidth\":0,\"ticks\":\"\"}}],\"contour\":[{\"type\":\"contour\",\"colorbar\":{\"outlinewidth\":0,\"ticks\":\"\"},\"colorscale\":[[0.0,\"#0d0887\"],[0.1111111111111111,\"#46039f\"],[0.2222222222222222,\"#7201a8\"],[0.3333333333333333,\"#9c179e\"],[0.4444444444444444,\"#bd3786\"],[0.5555555555555556,\"#d8576b\"],[0.6666666666666666,\"#ed7953\"],[0.7777777777777778,\"#fb9f3a\"],[0.8888888888888888,\"#fdca26\"],[1.0,\"#f0f921\"]]}],\"surface\":[{\"type\":\"surface\",\"colorbar\":{\"outlinewidth\":0,\"ticks\":\"\"},\"colorscale\":[[0.0,\"#0d0887\"],[0.1111111111111111,\"#46039f\"],[0.2222222222222222,\"#7201a8\"],[0.3333333333333333,\"#9c179e\"],[0.4444444444444444,\"#bd3786\"],[0.5555555555555556,\"#d8576b\"],[0.6666666666666666,\"#ed7953\"],[0.7777777777777778,\"#fb9f3a\"],[0.8888888888888888,\"#fdca26\"],[1.0,\"#f0f921\"]]}],\"mesh3d\":[{\"type\":\"mesh3d\",\"colorbar\":{\"outlinewidth\":0,\"ticks\":\"\"}}],\"scatter\":[{\"fillpattern\":{\"fillmode\":\"overlay\",\"size\":10,\"solidity\":0.2},\"type\":\"scatter\"}],\"parcoords\":[{\"type\":\"parcoords\",\"line\":{\"colorbar\":{\"outlinewidth\":0,\"ticks\":\"\"}}}],\"scatterpolargl\":[{\"type\":\"scatterpolargl\",\"marker\":{\"colorbar\":{\"outlinewidth\":0,\"ticks\":\"\"}}}],\"bar\":[{\"error_x\":{\"color\":\"#2a3f5f\"},\"error_y\":{\"color\":\"#2a3f5f\"},\"marker\":{\"line\":{\"color\":\"#E5ECF6\",\"width\":0.5},\"pattern\":{\"fillmode\":\"overlay\",\"size\":10,\"solidity\":0.2}},\"type\":\"bar\"}],\"scattergeo\":[{\"type\":\"scattergeo\",\"marker\":{\"colorbar\":{\"outlinewidth\":0,\"ticks\":\"\"}}}],\"scatterpolar\":[{\"type\":\"scatterpolar\",\"marker\":{\"colorbar\":{\"outlinewidth\":0,\"ticks\":\"\"}}}],\"histogram\":[{\"marker\":{\"pattern\":{\"fillmode\":\"overlay\",\"size\":10,\"solidity\":0.2}},\"type\":\"histogram\"}],\"scattergl\":[{\"type\":\"scattergl\",\"marker\":{\"colorbar\":{\"outlinewidth\":0,\"ticks\":\"\"}}}],\"scatter3d\":[{\"type\":\"scatter3d\",\"line\":{\"colorbar\":{\"outlinewidth\":0,\"ticks\":\"\"}},\"marker\":{\"colorbar\":{\"outlinewidth\":0,\"ticks\":\"\"}}}],\"scattermapbox\":[{\"type\":\"scattermapbox\",\"marker\":{\"colorbar\":{\"outlinewidth\":0,\"ticks\":\"\"}}}],\"scatterternary\":[{\"type\":\"scatterternary\",\"marker\":{\"colorbar\":{\"outlinewidth\":0,\"ticks\":\"\"}}}],\"scattercarpet\":[{\"type\":\"scattercarpet\",\"marker\":{\"colorbar\":{\"outlinewidth\":0,\"ticks\":\"\"}}}],\"carpet\":[{\"aaxis\":{\"endlinecolor\":\"#2a3f5f\",\"gridcolor\":\"white\",\"linecolor\":\"white\",\"minorgridcolor\":\"white\",\"startlinecolor\":\"#2a3f5f\"},\"baxis\":{\"endlinecolor\":\"#2a3f5f\",\"gridcolor\":\"white\",\"linecolor\":\"white\",\"minorgridcolor\":\"white\",\"startlinecolor\":\"#2a3f5f\"},\"type\":\"carpet\"}],\"table\":[{\"cells\":{\"fill\":{\"color\":\"#EBF0F8\"},\"line\":{\"color\":\"white\"}},\"header\":{\"fill\":{\"color\":\"#C8D4E3\"},\"line\":{\"color\":\"white\"}},\"type\":\"table\"}],\"barpolar\":[{\"marker\":{\"line\":{\"color\":\"#E5ECF6\",\"width\":0.5},\"pattern\":{\"fillmode\":\"overlay\",\"size\":10,\"solidity\":0.2}},\"type\":\"barpolar\"}],\"pie\":[{\"automargin\":true,\"type\":\"pie\"}]},\"layout\":{\"autotypenumbers\":\"strict\",\"colorway\":[\"#636efa\",\"#EF553B\",\"#00cc96\",\"#ab63fa\",\"#FFA15A\",\"#19d3f3\",\"#FF6692\",\"#B6E880\",\"#FF97FF\",\"#FECB52\"],\"font\":{\"color\":\"#2a3f5f\"},\"hovermode\":\"closest\",\"hoverlabel\":{\"align\":\"left\"},\"paper_bgcolor\":\"white\",\"plot_bgcolor\":\"#E5ECF6\",\"polar\":{\"bgcolor\":\"#E5ECF6\",\"angularaxis\":{\"gridcolor\":\"white\",\"linecolor\":\"white\",\"ticks\":\"\"},\"radialaxis\":{\"gridcolor\":\"white\",\"linecolor\":\"white\",\"ticks\":\"\"}},\"ternary\":{\"bgcolor\":\"#E5ECF6\",\"aaxis\":{\"gridcolor\":\"white\",\"linecolor\":\"white\",\"ticks\":\"\"},\"baxis\":{\"gridcolor\":\"white\",\"linecolor\":\"white\",\"ticks\":\"\"},\"caxis\":{\"gridcolor\":\"white\",\"linecolor\":\"white\",\"ticks\":\"\"}},\"coloraxis\":{\"colorbar\":{\"outlinewidth\":0,\"ticks\":\"\"}},\"colorscale\":{\"sequential\":[[0.0,\"#0d0887\"],[0.1111111111111111,\"#46039f\"],[0.2222222222222222,\"#7201a8\"],[0.3333333333333333,\"#9c179e\"],[0.4444444444444444,\"#bd3786\"],[0.5555555555555556,\"#d8576b\"],[0.6666666666666666,\"#ed7953\"],[0.7777777777777778,\"#fb9f3a\"],[0.8888888888888888,\"#fdca26\"],[1.0,\"#f0f921\"]],\"sequentialminus\":[[0.0,\"#0d0887\"],[0.1111111111111111,\"#46039f\"],[0.2222222222222222,\"#7201a8\"],[0.3333333333333333,\"#9c179e\"],[0.4444444444444444,\"#bd3786\"],[0.5555555555555556,\"#d8576b\"],[0.6666666666666666,\"#ed7953\"],[0.7777777777777778,\"#fb9f3a\"],[0.8888888888888888,\"#fdca26\"],[1.0,\"#f0f921\"]],\"diverging\":[[0,\"#8e0152\"],[0.1,\"#c51b7d\"],[0.2,\"#de77ae\"],[0.3,\"#f1b6da\"],[0.4,\"#fde0ef\"],[0.5,\"#f7f7f7\"],[0.6,\"#e6f5d0\"],[0.7,\"#b8e186\"],[0.8,\"#7fbc41\"],[0.9,\"#4d9221\"],[1,\"#276419\"]]},\"xaxis\":{\"gridcolor\":\"white\",\"linecolor\":\"white\",\"ticks\":\"\",\"title\":{\"standoff\":15},\"zerolinecolor\":\"white\",\"automargin\":true,\"zerolinewidth\":2},\"yaxis\":{\"gridcolor\":\"white\",\"linecolor\":\"white\",\"ticks\":\"\",\"title\":{\"standoff\":15},\"zerolinecolor\":\"white\",\"automargin\":true,\"zerolinewidth\":2},\"scene\":{\"xaxis\":{\"backgroundcolor\":\"#E5ECF6\",\"gridcolor\":\"white\",\"linecolor\":\"white\",\"showbackground\":true,\"ticks\":\"\",\"zerolinecolor\":\"white\",\"gridwidth\":2},\"yaxis\":{\"backgroundcolor\":\"#E5ECF6\",\"gridcolor\":\"white\",\"linecolor\":\"white\",\"showbackground\":true,\"ticks\":\"\",\"zerolinecolor\":\"white\",\"gridwidth\":2},\"zaxis\":{\"backgroundcolor\":\"#E5ECF6\",\"gridcolor\":\"white\",\"linecolor\":\"white\",\"showbackground\":true,\"ticks\":\"\",\"zerolinecolor\":\"white\",\"gridwidth\":2}},\"shapedefaults\":{\"line\":{\"color\":\"#2a3f5f\"}},\"annotationdefaults\":{\"arrowcolor\":\"#2a3f5f\",\"arrowhead\":0,\"arrowwidth\":1},\"geo\":{\"bgcolor\":\"white\",\"landcolor\":\"#E5ECF6\",\"subunitcolor\":\"white\",\"showland\":true,\"showlakes\":true,\"lakecolor\":\"white\"},\"title\":{\"x\":0.05},\"mapbox\":{\"style\":\"light\"}}},\"xaxis\":{\"title\":{\"text\":\"SVM Configurations\"},\"tickangle\":-45},\"yaxis\":{\"title\":{\"text\":\"Accuracy (%)\"},\"range\":[0,100]},\"title\":{\"text\":\"SVM Configuration Accuracies - 5-Fold(Long Fold) vs 10-Fold(Small Fold) CV\"},\"barmode\":\"group\",\"width\":800,\"height\":600},                        {\"responsive\": true}                    ).then(function(){\n",
              "                            \n",
              "var gd = document.getElementById('7e82d4e7-a259-4b82-afd8-1e80a373bfb4');\n",
              "var x = new MutationObserver(function (mutations, observer) {{\n",
              "        var display = window.getComputedStyle(gd).display;\n",
              "        if (!display || display === 'none') {{\n",
              "            console.log([gd, 'removed!']);\n",
              "            Plotly.purge(gd);\n",
              "            observer.disconnect();\n",
              "        }}\n",
              "}});\n",
              "\n",
              "// Listen for the removal of the full notebook cells\n",
              "var notebookContainer = gd.closest('#notebook-container');\n",
              "if (notebookContainer) {{\n",
              "    x.observe(notebookContainer, {childList: true});\n",
              "}}\n",
              "\n",
              "// Listen for the clearing of the current output cell\n",
              "var outputEl = gd.closest('.output');\n",
              "if (outputEl) {{\n",
              "    x.observe(outputEl, {childList: true});\n",
              "}}\n",
              "\n",
              "                        })                };                            </script>        </div>\n",
              "</body>\n",
              "</html>"
            ]
          },
          "metadata": {}
        }
      ]
    },
    {
      "cell_type": "code",
      "source": [],
      "metadata": {
        "id": "NZGLnkF_QHLN"
      },
      "execution_count": null,
      "outputs": []
    },
    {
      "cell_type": "code",
      "source": [],
      "metadata": {
        "id": "ugCrBH9OQHNn"
      },
      "execution_count": null,
      "outputs": []
    },
    {
      "cell_type": "code",
      "source": [],
      "metadata": {
        "id": "BSlZ9KwxQHQc"
      },
      "execution_count": null,
      "outputs": []
    }
  ]
}