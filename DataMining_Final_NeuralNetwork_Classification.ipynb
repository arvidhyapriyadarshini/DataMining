{
  "nbformat": 4,
  "nbformat_minor": 0,
  "metadata": {
    "colab": {
      "provenance": []
    },
    "kernelspec": {
      "name": "python3",
      "display_name": "Python 3"
    },
    "language_info": {
      "name": "python"
    }
  },
  "cells": [
    {
      "cell_type": "code",
      "execution_count": null,
      "metadata": {
        "colab": {
          "base_uri": "https://localhost:8080/"
        },
        "id": "6t51hG-owThE",
        "outputId": "18d63675-6cd1-4c91-825c-4c44fd99dac1"
      },
      "outputs": [
        {
          "output_type": "stream",
          "name": "stdout",
          "text": [
            "Mounted at /content/drive\n"
          ]
        }
      ],
      "source": [
        "from google.colab import drive\n",
        "drive.mount('/content/drive')"
      ]
    },
    {
      "cell_type": "code",
      "source": [
        "import pandas as pd\n",
        "path= ('/content/drive/MyDrive/Colab Notebooks/CSE5317-DataMining-HW/Combined_GeneData_4_Classification.csv')\n",
        "classification_data= pd.read_csv(path)"
      ],
      "metadata": {
        "id": "Iw1Gm_eFWX_6"
      },
      "execution_count": null,
      "outputs": []
    },
    {
      "cell_type": "code",
      "source": [
        "from sklearn.model_selection import train_test_split\n",
        "from sklearn.preprocessing import StandardScaler\n",
        "classification_data = classification_data.drop('Samples', axis=1)\n",
        "\n",
        "missing_values_count = classification_data.isnull().sum().sum()\n",
        "print(\"missing_values_count\",missing_values_count)\n",
        "\n",
        "X = classification_data.drop('Disease State', axis=1)\n",
        "y = classification_data['Disease State']\n"
      ],
      "metadata": {
        "colab": {
          "base_uri": "https://localhost:8080/"
        },
        "id": "OIibRUvrwkKz",
        "outputId": "10bb2898-406f-43e8-f1dc-19c26eb6447d"
      },
      "execution_count": null,
      "outputs": [
        {
          "output_type": "stream",
          "name": "stdout",
          "text": [
            "missing_values_count 0\n"
          ]
        }
      ]
    },
    {
      "cell_type": "code",
      "source": [
        "\n",
        "scaler = StandardScaler()\n",
        "X_scaled = scaler.fit_transform(X)\n",
        "\n",
        "X_train, X_test, y_train, y_test = train_test_split(X_scaled, y, test_size=0.2, random_state=42)\n",
        "\n",
        "X_train.shape, X_test.shape"
      ],
      "metadata": {
        "colab": {
          "base_uri": "https://localhost:8080/"
        },
        "id": "avD7CWlMwkN7",
        "outputId": "515231b0-074a-4b2e-eb48-881f800685cc"
      },
      "execution_count": null,
      "outputs": [
        {
          "output_type": "execute_result",
          "data": {
            "text/plain": [
              "((26, 44), (7, 44))"
            ]
          },
          "metadata": {},
          "execution_count": 4
        }
      ]
    },
    {
      "cell_type": "code",
      "source": [
        "from sklearn.neural_network import MLPClassifier\n",
        "from sklearn.model_selection import cross_val_score\n",
        "import numpy as np\n",
        "\n",
        "nn_2_hidden = MLPClassifier(hidden_layer_sizes=(100, 50), random_state=42)\n",
        "\n",
        "cv_scores_nn_2_hidden = cross_val_score(nn_2_hidden, X_scaled, y, cv=10)\n",
        "\n",
        "for i, score in enumerate(cv_scores_nn_2_hidden, 1):\n",
        "    print(f\"Accuracy for fold {i}: {score:.2f}\")\n",
        "\n",
        "mean_accuracy = np.mean(cv_scores_nn_2_hidden)\n",
        "print(f\"Mean Accuracy: {mean_accuracy:.2f}\")"
      ],
      "metadata": {
        "colab": {
          "base_uri": "https://localhost:8080/"
        },
        "id": "en25s1qpwkXf",
        "outputId": "dab0991d-ed3c-4e0a-d4c8-72bfc20d1a57"
      },
      "execution_count": null,
      "outputs": [
        {
          "output_type": "stream",
          "name": "stdout",
          "text": [
            "Accuracy for fold 1: 0.75\n",
            "Accuracy for fold 2: 0.75\n",
            "Accuracy for fold 3: 1.00\n",
            "Accuracy for fold 4: 1.00\n",
            "Accuracy for fold 5: 0.67\n",
            "Accuracy for fold 6: 0.33\n",
            "Accuracy for fold 7: 0.67\n",
            "Accuracy for fold 8: 1.00\n",
            "Accuracy for fold 9: 1.00\n",
            "Accuracy for fold 10: 0.67\n",
            "Mean Accuracy: 0.78\n"
          ]
        }
      ]
    },
    {
      "cell_type": "code",
      "source": [
        "from sklearn.neural_network import MLPClassifier\n",
        "from sklearn.model_selection import cross_val_score\n",
        "import numpy as np\n",
        "\n",
        "nn_custom = MLPClassifier(\n",
        "    hidden_layer_sizes=(100, 50),\n",
        "    activation='tanh',\n",
        "    solver='adam',\n",
        "    random_state=42\n",
        ")\n",
        "\n",
        "cv_scores = cross_val_score(nn_custom, X_scaled, y, cv=5)\n",
        "\n",
        "for i, score in enumerate(cv_scores, 1):\n",
        "    print(f\"Accuracy for fold {i}: {score:.2f}\")\n",
        "mean_accuracy = np.mean(cv_scores)\n",
        "print(f\"Mean Accuracy: {mean_accuracy:.2f}\")\n"
      ],
      "metadata": {
        "colab": {
          "base_uri": "https://localhost:8080/"
        },
        "id": "mVNI4SH58-2i",
        "outputId": "8dc50412-6900-46e6-95bd-245f8c819f6a"
      },
      "execution_count": null,
      "outputs": [
        {
          "output_type": "stream",
          "name": "stdout",
          "text": [
            "Accuracy for fold 1: 0.43\n",
            "Accuracy for fold 2: 0.57\n",
            "Accuracy for fold 3: 0.57\n",
            "Accuracy for fold 4: 0.83\n",
            "Accuracy for fold 5: 0.83\n",
            "Mean Accuracy: 0.65\n"
          ]
        }
      ]
    },
    {
      "cell_type": "code",
      "source": [
        "from sklearn.neural_network import MLPClassifier\n",
        "from sklearn.model_selection import cross_val_score\n",
        "import numpy as np\n",
        "\n",
        "nn_custom = MLPClassifier(\n",
        "    hidden_layer_sizes=(100, 50),\n",
        "    activation='identity',\n",
        "    solver='adam',\n",
        "    random_state=42\n",
        ")\n",
        "\n",
        "cv_scores = cross_val_score(nn_custom, X_scaled, y, cv=5)\n",
        "\n",
        "for i, score in enumerate(cv_scores, 1):\n",
        "    print(f\"Accuracy for fold {i}: {score:.2f}\")\n",
        "mean_accuracy = np.mean(cv_scores)\n",
        "print(f\"Mean Accuracy: {mean_accuracy:.2f}\")"
      ],
      "metadata": {
        "colab": {
          "base_uri": "https://localhost:8080/"
        },
        "id": "warQ4ffX8-8X",
        "outputId": "d0a8758e-2c04-42b1-e74f-8dd418bc47aa"
      },
      "execution_count": null,
      "outputs": [
        {
          "output_type": "stream",
          "name": "stdout",
          "text": [
            "Accuracy for fold 1: 0.43\n",
            "Accuracy for fold 2: 0.57\n",
            "Accuracy for fold 3: 0.57\n",
            "Accuracy for fold 4: 0.50\n",
            "Accuracy for fold 5: 0.83\n",
            "Mean Accuracy: 0.58\n"
          ]
        }
      ]
    },
    {
      "cell_type": "code",
      "source": [
        "from sklearn.neural_network import MLPClassifier\n",
        "from sklearn.model_selection import cross_val_score\n",
        "import numpy as np\n",
        "\n",
        "nn_custom = MLPClassifier(\n",
        "    hidden_layer_sizes=(100, 50),\n",
        "    activation='relu',\n",
        "    solver='adam',\n",
        "    random_state=42\n",
        ")\n",
        "\n",
        "cv_scores = cross_val_score(nn_custom, X_scaled, y, cv=5)\n",
        "\n",
        "for i, score in enumerate(cv_scores, 1):\n",
        "    print(f\"Accuracy for fold {i}: {score:.2f}\")\n",
        "mean_accuracy = np.mean(cv_scores)\n",
        "print(f\"Mean Accuracy: {mean_accuracy:.2f}\")\n"
      ],
      "metadata": {
        "colab": {
          "base_uri": "https://localhost:8080/"
        },
        "id": "hgbfVcLhwkZr",
        "outputId": "bc995bb5-dc03-44ca-c999-46419c22dbb1"
      },
      "execution_count": null,
      "outputs": [
        {
          "output_type": "stream",
          "name": "stdout",
          "text": [
            "Accuracy for fold 1: 0.43\n",
            "Accuracy for fold 2: 0.57\n",
            "Accuracy for fold 3: 0.71\n",
            "Accuracy for fold 4: 0.67\n",
            "Accuracy for fold 5: 0.83\n",
            "Mean Accuracy: 0.64\n"
          ]
        }
      ]
    },
    {
      "cell_type": "code",
      "source": [
        "import pandas as pd\n",
        "from sklearn.neural_network import MLPClassifier\n",
        "from sklearn.model_selection import cross_val_score\n",
        "import numpy as np\n",
        "\n",
        "activation_functions = ['tanh', 'relu', 'identity']\n",
        "\n",
        "results_df = pd.DataFrame(index=[f'Fold {i}' for i in range(1, 6)] + ['Mean Accuracy'])\n",
        "\n",
        "for activation in activation_functions:\n",
        "    nn_custom = MLPClassifier(hidden_layer_sizes=(100, 50,25,),\n",
        "                              activation=activation,\n",
        "                              solver='adam',\n",
        "                              random_state=42)\n",
        "\n",
        "    cv_scores = cross_val_score(nn_custom, X_scaled, y, cv=5)\n",
        "    mean_accuracy = np.mean(cv_scores)\n",
        "\n",
        "    results_df[activation] = cv_scores.tolist() + [mean_accuracy]\n",
        "\n",
        "print(results_df.T)"
      ],
      "metadata": {
        "colab": {
          "base_uri": "https://localhost:8080/"
        },
        "id": "cJljZXpRwkct",
        "outputId": "bc0c0862-7f00-4753-94cb-98330cc3d4ae"
      },
      "execution_count": null,
      "outputs": [
        {
          "output_type": "stream",
          "name": "stdout",
          "text": [
            "            Fold 1    Fold 2    Fold 3    Fold 4    Fold 5  Mean Accuracy\n",
            "tanh      0.428571  0.571429  0.571429  0.500000  0.833333       0.580952\n",
            "relu      0.571429  0.571429  0.714286  0.666667  0.833333       0.671429\n",
            "identity  0.428571  0.571429  0.571429  0.333333  0.833333       0.547619\n"
          ]
        }
      ]
    },
    {
      "cell_type": "code",
      "source": [
        "nn_models = {\n",
        "    \"1 Hidden Layer (100 neurons)\": MLPClassifier(hidden_layer_sizes=(100,), random_state=42),\n",
        "    \"2 Hidden Layers (100,50 neurons)\": MLPClassifier(hidden_layer_sizes=(100, 50), random_state=42),\n",
        "    \"3 Hidden Layers (100,50,25 neurons)\": MLPClassifier(hidden_layer_sizes=(100, 50, 25), random_state=42)\n",
        "}"
      ],
      "metadata": {
        "id": "UREHS5WCYVpz"
      },
      "execution_count": null,
      "outputs": []
    },
    {
      "cell_type": "code",
      "source": [
        "\n",
        "pastel_colors = ['#ffb3e6', '#99c2ff', '#ffcc99']\n",
        "\n",
        "pivot_df.plot(kind='bar', figsize=(14, 7), color=pastel_colors)\n",
        "\n",
        "plt.title('Mean Accuracy of Neural Network Configurations by Activation Function')\n",
        "plt.xlabel('Activation Function')\n",
        "plt.ylabel('Mean Accuracy (%)')\n",
        "plt.xticks(rotation=0)\n",
        "plt.legend(title='Neural Network Configuration')\n",
        "plt.tight_layout()\n",
        "\n",
        "plt.show()"
      ],
      "metadata": {
        "colab": {
          "base_uri": "https://localhost:8080/",
          "height": 707
        },
        "id": "Vg4sg9ItYVvN",
        "outputId": "e35b9201-ff88-468f-edef-63a3d989c0d0"
      },
      "execution_count": null,
      "outputs": [
        {
          "output_type": "display_data",
          "data": {
            "text/plain": [
              "<Figure size 1400x700 with 1 Axes>"
            ],
            "image/png": "[encoded data removed]"
          },
          "metadata": {}
        }
      ]
    },
    {
      "cell_type": "code",
      "source": [
        "import pandas as pd\n",
        "from sklearn.neural_network import MLPClassifier\n",
        "from sklearn.model_selection import cross_val_score\n",
        "import numpy as np\n",
        "\n",
        "activation_functions = ['relu',]\n",
        "\n",
        "results_df = pd.DataFrame(index=[f'Fold {i}' for i in range(1, 6)] + ['Mean Accuracy'])\n",
        "\n",
        "for activation in activation_functions:\n",
        "    nn_custom = MLPClassifier(hidden_layer_sizes=(100, 50,25,),\n",
        "                              activation=activation,\n",
        "                              solver='adam',\n",
        "                              random_state=42)\n",
        "\n",
        "    cv_scores = cross_val_score(nn_custom, X_scaled, y, cv=5)\n",
        "    mean_accuracy = np.mean(cv_scores)\n",
        "\n",
        "    results_df[activation] = cv_scores.tolist() + [mean_accuracy]\n",
        "\n",
        "print(results_df.T)"
      ],
      "metadata": {
        "colab": {
          "base_uri": "https://localhost:8080/"
        },
        "id": "SUBu_AThYV0f",
        "outputId": "dbc5c6a4-6b3d-4990-c0cd-f8449dcc4f1a"
      },
      "execution_count": null,
      "outputs": [
        {
          "output_type": "stream",
          "name": "stdout",
          "text": [
            "        Fold 1    Fold 2    Fold 3    Fold 4    Fold 5  Mean Accuracy\n",
            "relu  0.571429  0.571429  0.714286  0.666667  0.833333       0.671429\n"
          ]
        }
      ]
    },
    {
      "cell_type": "code",
      "source": [
        "from sklearn.metrics import accuracy_score, precision_score, recall_score, f1_score, confusion_matrix\n",
        "\n",
        "nn_model_full = MLPClassifier(hidden_layer_sizes=(100, 50, 25), activation='relu', solver='adam', random_state=42)\n",
        "nn_model_full.fit(X_scaled, y)\n",
        "\n",
        "y_pred_full = nn_model_full.predict(X_scaled)\n",
        "\n",
        "accuracy_full = accuracy_score(y, y_pred_full)\n",
        "precision_full = precision_score(y, y_pred_full)\n",
        "recall_full = recall_score(y, y_pred_full)\n",
        "f1_full = f1_score(y, y_pred_full)\n",
        "conf_matrix_full = confusion_matrix(y, y_pred_full)\n",
        "\n",
        "accuracy_full, precision_full, recall_full, f1_full, conf_matrix_full"
      ],
      "metadata": {
        "colab": {
          "base_uri": "https://localhost:8080/"
        },
        "id": "Eh_UvW2EwtVz",
        "outputId": "5e5724bf-b554-454d-a430-f6df52832920"
      },
      "execution_count": null,
      "outputs": [
        {
          "output_type": "execute_result",
          "data": {
            "text/plain": [
              "(1.0,\n",
              " 1.0,\n",
              " 1.0,\n",
              " 1.0,\n",
              " array([[17,  0],\n",
              "        [ 0, 16]]))"
            ]
          },
          "metadata": {},
          "execution_count": 16
        }
      ]
    },
    {
      "cell_type": "code",
      "source": [
        "import seaborn as sns\n",
        "plt.figure(figsize=(6, 5))\n",
        "sns.heatmap(conf_matrix_full, annot=True, fmt='d', cmap='Blues', square=True, cbar=False)\n",
        "plt.xlabel('Predicted Label')\n",
        "plt.ylabel('True Label')\n",
        "plt.title('Confusion Matrix Visualization')\n",
        "plt.xticks([0.5, 1.5], ['Negative', 'Positive'])\n",
        "plt.yticks([0.5, 1.5], ['Negative', 'Positive'], rotation=0)\n",
        "plt.show()"
      ],
      "metadata": {
        "colab": {
          "base_uri": "https://localhost:8080/",
          "height": 487
        },
        "id": "JydkTSqQwtYy",
        "outputId": "d618b297-3fa4-49cb-d3d5-e5f4d4afaaf7"
      },
      "execution_count": null,
      "outputs": [
        {
          "output_type": "display_data",
          "data": {
            "text/plain": [
              "<Figure size 600x500 with 1 Axes>"
            ],
            "image/png": "[encoded data removed]"
          },
          "metadata": {}
        }
      ]
    },
    {
      "cell_type": "code",
      "source": [],
      "metadata": {
        "id": "K0u_aOUfgTyf"
      },
      "execution_count": null,
      "outputs": []
    },
    {
      "cell_type": "code",
      "source": [],
      "metadata": {
        "id": "k-5tzOSmwtbZ"
      },
      "execution_count": null,
      "outputs": []
    },
    {
      "cell_type": "code",
      "source": [],
      "metadata": {
        "id": "SwBrbweLwtee"
      },
      "execution_count": null,
      "outputs": []
    },
    {
      "cell_type": "code",
      "source": [],
      "metadata": {
        "id": "LE1K4NvkwtlF"
      },
      "execution_count": null,
      "outputs": []
    }
  ]
}